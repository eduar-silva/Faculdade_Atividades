{
  "nbformat": 4,
  "nbformat_minor": 0,
  "metadata": {
    "colab": {
      "provenance": [],
      "collapsed_sections": [
        "ibasTPOPvEGo",
        "LiyQ9_puJf7b",
        "bOlDYuQzPQRj"
      ],
      "authorship_tag": "ABX9TyPRlJtiTOImQ3++8gFwPEFK",
      "include_colab_link": true
    },
    "kernelspec": {
      "name": "python3",
      "display_name": "Python 3"
    },
    "language_info": {
      "name": "python"
    }
  },
  "cells": [
    {
      "cell_type": "markdown",
      "metadata": {
        "id": "view-in-github",
        "colab_type": "text"
      },
      "source": [
        "<a href=\"https://colab.research.google.com/github/eduar-silva/Faculdade_Atividades/blob/main/ListasDeAtividades(1_3)_UDF_EduardoBrito_EngenhariaDeSoftware.ipynb\" target=\"_parent\"><img src=\"https://colab.research.google.com/assets/colab-badge.svg\" alt=\"Open In Colab\"/></a>"
      ]
    },
    {
      "cell_type": "markdown",
      "source": [
        "# **Lista 01**"
      ],
      "metadata": {
        "id": "ibasTPOPvEGo"
      }
    },
    {
      "cell_type": "code",
      "source": [
        "'''\n",
        "Escreva um programa que apresente na tela a frase: \"Meu primeiro programa!!!\"\n",
        "'''\n",
        "print (\"Meu primeiro programa!!\")"
      ],
      "metadata": {
        "colab": {
          "base_uri": "https://localhost:8080/"
        },
        "id": "J41IaC3ovL5f",
        "outputId": "2e329713-a9ec-4ff8-dde5-9db29be28027"
      },
      "execution_count": null,
      "outputs": [
        {
          "output_type": "stream",
          "name": "stdout",
          "text": [
            "Meu primeiro programa!!\n"
          ]
        }
      ]
    },
    {
      "cell_type": "code",
      "source": [
        "'''\n",
        "Escreva um programa que solicite ao usuário um número inteiro e ao final apresente na tela\n",
        "o número informado pelo usuário do programa\n",
        "'''\n",
        "num1 = int(input(\"Digite um número:\"))\n",
        "print (num1)"
      ],
      "metadata": {
        "colab": {
          "base_uri": "https://localhost:8080/"
        },
        "id": "xDGNFFgIwCOv",
        "outputId": "b9c762e7-c260-49e9-d9c4-af725bac0493"
      },
      "execution_count": null,
      "outputs": [
        {
          "output_type": "stream",
          "name": "stdout",
          "text": [
            "Digite um número:10\n",
            "10\n"
          ]
        }
      ]
    },
    {
      "cell_type": "code",
      "source": [
        "'''\n",
        "Escreva um programa que solicite ao usuário um número inteiro e ao final apresente na tela\n",
        "o número informado da seguinte forma: \"Foi informado o valor: X\"\n",
        "'''\n",
        "num1 = int(input(\"Digite um número: \"))\n",
        "print (\"Foi informado o número\", num1)"
      ],
      "metadata": {
        "colab": {
          "base_uri": "https://localhost:8080/"
        },
        "id": "6Pj2CYdgwyp0",
        "outputId": "581364c3-78f8-4a1f-cb8f-7d6643d082ac"
      },
      "execution_count": null,
      "outputs": [
        {
          "output_type": "stream",
          "name": "stdout",
          "text": [
            "Digite um número: 12\n",
            "Foi informado o número 12\n"
          ]
        }
      ]
    },
    {
      "cell_type": "code",
      "source": [
        "'''\n",
        "Escreva um programa que solicite ao usuário dois números inteiros e ao final apresente na\n",
        "tela os dois números informados da seguinte forma: \"Voce informou os numeros X e Y\"\n",
        "'''\n",
        "num1 = int(input(\"Digite um número: \"))\n",
        "num2 = int(input(\"Digite o segundo número: \"))\n",
        "print (\"Você informou os números\", num1 ,\"e\", num2)"
      ],
      "metadata": {
        "colab": {
          "base_uri": "https://localhost:8080/"
        },
        "id": "l0SvDQJDxEky",
        "outputId": "cb35fafb-9636-4df3-8249-b719861a593a"
      },
      "execution_count": null,
      "outputs": [
        {
          "output_type": "stream",
          "name": "stdout",
          "text": [
            "Digite um número: 2\n",
            "Digite o segundo número: 4\n",
            "Você informou os números 2 e 4\n"
          ]
        }
      ]
    },
    {
      "cell_type": "code",
      "source": [
        "'''\n",
        "Escreva um programa que solicite ao usuário um número real e ao final apresente na tela o\n",
        "número informado formatado com duas casas decimais da seguinte forma: \"Voce informou\n",
        "o numero X.YY\"\n",
        "'''\n",
        "num1 = float(input(\"Digite um número: \"))\n",
        "print(f\"Você informou o número {num1:.2f}\")"
      ],
      "metadata": {
        "colab": {
          "base_uri": "https://localhost:8080/"
        },
        "id": "TwC1g-ZHIkqd",
        "outputId": "261f058b-7d82-4f1c-8d56-999d1618223d"
      },
      "execution_count": null,
      "outputs": [
        {
          "output_type": "stream",
          "name": "stdout",
          "text": [
            "Digite um número: 2\n",
            "Você informou o número 2.00\n"
          ]
        }
      ]
    },
    {
      "cell_type": "code",
      "source": [
        "'''\n",
        "Escreva um programa que solicite ao usuário a temperatura em graus Celsius e ao final\n",
        "apresente a temperatura correspondente em graus Farenheit. F = Celsius * 1.8 + 32\n",
        "'''\n",
        "temp_celsius = float(input(\"Informe a temperatura atual: \"))\n",
        "temp_farenheit = temp_celsius * 1.8 + 32\n",
        "print (temp_farenheit)"
      ],
      "metadata": {
        "colab": {
          "base_uri": "https://localhost:8080/"
        },
        "id": "ENB3aqOY0LIg",
        "outputId": "7a2d0701-9549-4ccf-b12c-65d59a5f3992"
      },
      "execution_count": null,
      "outputs": [
        {
          "output_type": "stream",
          "name": "stdout",
          "text": [
            "Informe a temperatura atual: 32\n",
            "89.6\n"
          ]
        }
      ]
    },
    {
      "cell_type": "code",
      "source": [
        "'''\n",
        "Escreva um programa que solicite ao usuário um número inteiro e um número real e ao final\n",
        "apresente na tela os dois números informados formatando com duas casas decimais\n",
        "somente o número real da seguinte forma: \"Voce informou os numeros N e X.YY\"\n",
        "'''\n",
        "num1 = int(input(\"Digite um número: \"))\n",
        "num2 = float(input(\"Digite um número: \"))\n",
        "print (\"Você informou os números\", num1, f\"e {num2:.2f}\")"
      ],
      "metadata": {
        "colab": {
          "base_uri": "https://localhost:8080/"
        },
        "id": "g0ApvPxwxgBs",
        "outputId": "829efe72-2822-4dde-be18-8dcac60555b6"
      },
      "execution_count": null,
      "outputs": [
        {
          "output_type": "stream",
          "name": "stdout",
          "text": [
            "Digite um número: 10\n",
            "Digite um número: 2.50\n",
            "Você informou os números 10 e 2.50\n"
          ]
        }
      ]
    },
    {
      "cell_type": "code",
      "source": [
        "'''\n",
        "Escreva um programa que solicite ao usuário a primeira letra de seu nome e ao final\n",
        "apresente na tela a letra informada pelo usuário da seguinte forma: \"Voce digitou w\"\n",
        "'''\n",
        "primeiraLetraNome = input(\"Digite a primeira letra do seu nome:\")\n",
        "print (\"Você digitou\", primeiraLetraNome)"
      ],
      "metadata": {
        "colab": {
          "base_uri": "https://localhost:8080/"
        },
        "id": "CA8tFIv20Qf2",
        "outputId": "fcf099ad-c632-4c89-8818-ae0bfe7e27d8"
      },
      "execution_count": null,
      "outputs": [
        {
          "output_type": "stream",
          "name": "stdout",
          "text": [
            "Digite a primeira letra do seu nome:w\n",
            "Você digitou w\n"
          ]
        }
      ]
    },
    {
      "cell_type": "code",
      "source": [
        "'''\n",
        "Escreva um programa que solicite ao usuário o nome de sua cor preferida e ao final\n",
        "apresente na tela a cor informada pelo usuário da seguinte forma: \"Voce gosta da cor AAA\"\n",
        "'''\n",
        "corFavorita = input(\"Digite a sua cor favorita: \")\n",
        "print(\"Você gosta da cor\", corFavorita)"
      ],
      "metadata": {
        "colab": {
          "base_uri": "https://localhost:8080/"
        },
        "id": "vLVPvsOyJZ0A",
        "outputId": "181fc3d9-d480-41f8-f429-dc44805ad6ed"
      },
      "execution_count": null,
      "outputs": [
        {
          "output_type": "stream",
          "name": "stdout",
          "text": [
            "Digite a sua cor favorita: azul\n",
            "Você gosta da cor azul\n"
          ]
        }
      ]
    },
    {
      "cell_type": "code",
      "source": [
        "'''\n",
        "Escreva um programa que solicite ao usuário o nome de uma verdura e uma fruta de sua\n",
        "preferencia e ao final apresente na tela as informações digitadas pelo usuário da seguinte\n",
        "forma: \"Voce gosta de AAAAAAA e BBBBBBB\"\n",
        "'''\n",
        "fruta = input(\"Digite uma fruta de sua preferência: \")\n",
        "verdura = input(\"Digite uma verdura de sua preferência: \")\n",
        "print (\"Você gosta de\", fruta,\"e\", verdura)"
      ],
      "metadata": {
        "colab": {
          "base_uri": "https://localhost:8080/"
        },
        "id": "ks4BQ7RX1Fpy",
        "outputId": "3fc3caee-aa4b-401f-cb95-4e164fe43a41"
      },
      "execution_count": null,
      "outputs": [
        {
          "output_type": "stream",
          "name": "stdout",
          "text": [
            "Digite uma fruta de sua preferência: maçã\n",
            "Digite uma verdura de sua preferência: tomate\n",
            "Você gosta de maçã e tomate\n"
          ]
        }
      ]
    },
    {
      "cell_type": "code",
      "source": [
        "'''\n",
        "Elabore um algoritmo que solicite ao usuário um número real e ao final imprima na tela o\n",
        "numero informado e na linha de baixo o dobro deste número da seguinte forma:\n",
        "Numero -> X\n",
        "Dobro deste numero -> Y\n",
        "'''\n",
        "num1 = float(input(\"Digite um número: \"))\n",
        "dobro = num1 * 2\n",
        "print (\"Número ->\", num1)\n",
        "print (\"Dobro ->\", dobro)"
      ],
      "metadata": {
        "colab": {
          "base_uri": "https://localhost:8080/"
        },
        "id": "zMyAjdiZ1cvz",
        "outputId": "5b557e63-5300-4c30-d8ba-f5f66eb91aeb"
      },
      "execution_count": null,
      "outputs": [
        {
          "output_type": "stream",
          "name": "stdout",
          "text": [
            "Digite um número: 2\n",
            "Número -> 2.0\n",
            "Dobro -> 4.0\n"
          ]
        }
      ]
    },
    {
      "cell_type": "code",
      "source": [
        "'''\n",
        "Reescrever o programa anterior apresentando o quadrado e o cubo do número informado\n",
        "'''\n",
        "num1 = float(input(\"Digite um número: \"))\n",
        "dobro = num1 * 2\n",
        "quadrado = num1 ** 2\n",
        "cubo = num1 ** 3\n",
        "print (\"Número ->\", num1)\n",
        "print (\"Dobro ->\", dobro)\n",
        "print (\"Quadrado ->\", quadrado)\n",
        "print (\"Cubo ->\", cubo)"
      ],
      "metadata": {
        "colab": {
          "base_uri": "https://localhost:8080/"
        },
        "id": "gFILl2GF2FdT",
        "outputId": "ecea99d0-e133-4b62-b553-fab049884b3a"
      },
      "execution_count": null,
      "outputs": [
        {
          "output_type": "stream",
          "name": "stdout",
          "text": [
            "Digite um número: 3\n",
            "Número -> 3.0\n",
            "Dobro -> 6.0\n",
            "Quadrado -> 9.0\n",
            "Cubo -> 27.0\n"
          ]
        }
      ]
    },
    {
      "cell_type": "code",
      "source": [
        "'''\n",
        "Escreva um programa que solicite ao usuário dois números inteiros e ao final apresente\n",
        "na tela a soma dos dois números informados da seguinte forma: \"O numeros N e X\n",
        "somados correspondem a Y\"\n",
        "'''\n",
        "num1 = int(input(\"Digite um número: \"))\n",
        "num2 = int(input(\"Digite outro número: \"))\n",
        "soma = num1+num2\n",
        "print (\"Os números\", num1,\"e\", num2,\"somados correspondem a\", soma)"
      ],
      "metadata": {
        "colab": {
          "base_uri": "https://localhost:8080/"
        },
        "id": "pSEWZJJt2gRE",
        "outputId": "345bd5aa-0302-4d07-c08b-566111c0edc0"
      },
      "execution_count": null,
      "outputs": [
        {
          "output_type": "stream",
          "name": "stdout",
          "text": [
            "Digite um número: 2\n",
            "Digite outro número: 4\n",
            "Os números 2 e 4 somados correspondem a 6\n"
          ]
        }
      ]
    },
    {
      "cell_type": "code",
      "source": [
        "'''\n",
        "Escreva um programa que solicite ao usuário dois números reais e ao final apresente na\n",
        "tela o produto dos dois números informados da seguinte forma: \"O produto dos numeros N\n",
        "e X corresponde a Y\"\n",
        "'''\n",
        "num1 = float(input(\"Digite um número: \"))\n",
        "num2 = float(input(\"Digite outro número: \"))\n",
        "produto = num1*num2\n",
        "print (\"O produto dos números\", num1,\"e\", num2,\"corresponde a\", produto)"
      ],
      "metadata": {
        "colab": {
          "base_uri": "https://localhost:8080/"
        },
        "id": "zeZ2NO8a240J",
        "outputId": "6a8b6f42-490a-4704-815e-fcb0bcebdbb4"
      },
      "execution_count": null,
      "outputs": [
        {
          "output_type": "stream",
          "name": "stdout",
          "text": [
            "Digite um número: 2\n",
            "Digite outro número: 4\n",
            "O produto dos números 2.0 e 4.0 corresponde a 8.0\n"
          ]
        }
      ]
    },
    {
      "cell_type": "code",
      "source": [
        "'''\n",
        "Refazer o programa 14 realizando as quatro operações aritméticas básicas\n",
        "'''\n",
        "num1 = float(input(\"Digite um número: \"))\n",
        "num2 = float(input(\"Digite outro número: \"))\n",
        "produto = num1*num2\n",
        "soma = num1+num2\n",
        "subtracao = num1-num2\n",
        "divisao = num1 / num2\n",
        "mod = num1 % num2\n",
        "exponenciacao = num1**num2\n",
        "print (\"Produto =\", produto)\n",
        "print (\"Soma =\", soma)\n",
        "print (\"Subtração =\", subtracao)\n",
        "print (\"Divisão =\", divisao)\n",
        "print (\"Módulo =\", mod)\n",
        "print (\"Exponenciação =\", exponenciacao)"
      ],
      "metadata": {
        "colab": {
          "base_uri": "https://localhost:8080/"
        },
        "id": "RVNnxUEk3b6E",
        "outputId": "e068b86d-1f4e-4e9c-af9d-2e46d9c82959"
      },
      "execution_count": null,
      "outputs": [
        {
          "output_type": "stream",
          "name": "stdout",
          "text": [
            "Digite um número: 2\n",
            "Digite outro número: 5\n",
            "Produto = 10.0\n",
            "Soma = 7.0\n",
            "Subtração = -3.0\n",
            "Divisão = 0.4\n",
            "Resto = 2.0\n",
            "Exponenciação = 32.0\n"
          ]
        }
      ]
    },
    {
      "cell_type": "markdown",
      "source": [
        "# **Lista 2**"
      ],
      "metadata": {
        "id": "LiyQ9_puJf7b"
      }
    },
    {
      "cell_type": "code",
      "source": [
        "'''\n",
        "Elabore um programa que solicite ao usuário um número real e ao final imprima na tela se o\n",
        "número informado é maior que 10 (dez)\n",
        "'''\n",
        "num1 = float(input(\"Digite um número: \"))\n",
        "if num1 > 10:\n",
        "  print(\"O número é maior que 10\")"
      ],
      "metadata": {
        "colab": {
          "base_uri": "https://localhost:8080/"
        },
        "id": "u7HBxktp8ZAJ",
        "outputId": "8acfc258-a0e1-43be-f6f2-74f96a54b209"
      },
      "execution_count": null,
      "outputs": [
        {
          "output_type": "stream",
          "name": "stdout",
          "text": [
            "Digite um número: 12\n",
            "O número é maior que 10\n"
          ]
        }
      ]
    },
    {
      "cell_type": "code",
      "source": [
        "'''\n",
        "Escreva um programa que solicite ao usuário um número real e ao final imprima na tela se\n",
        "o número informado é maior ou igual a dez ou menor que 10 (dez)\n",
        "'''\n",
        "num1 = float(input(\"Digite um número: \"))\n",
        "if num1 == 10:\n",
        "  print(\"O número é igual que 10\")\n",
        "elif num1 > 10:\n",
        "  print(\"O número é maior que 10\")"
      ],
      "metadata": {
        "colab": {
          "base_uri": "https://localhost:8080/"
        },
        "id": "GyjiPEoR8t9_",
        "outputId": "ddf32c4d-17bc-40ab-e97e-6a0073ead261"
      },
      "execution_count": null,
      "outputs": [
        {
          "output_type": "stream",
          "name": "stdout",
          "text": [
            "Digite um número: 10\n",
            "O número é igual que 10\n"
          ]
        }
      ]
    },
    {
      "cell_type": "code",
      "source": [
        "'''\n",
        "Elabore um algoritmo que solicite ao usuário um número real e ao final imprima na tela se o\n",
        "número informado é maior que dez, se é menor que dez, ou se é igual a dez\n",
        "'''\n",
        "num1 = float(input(\"Digite um número real: \"))\n",
        "if num1 == 10:\n",
        "  print(\"O número é igual a 10\")\n",
        "elif num1 > 10:\n",
        "  print(\"O número é maior que 10\")\n",
        "else:\n",
        "  print(\"O número é menor que 10\")"
      ],
      "metadata": {
        "colab": {
          "base_uri": "https://localhost:8080/"
        },
        "id": "axHlfLKtJiQ-",
        "outputId": "86c42a63-4504-40cb-aaa2-6e2438a99ee3"
      },
      "execution_count": null,
      "outputs": [
        {
          "output_type": "stream",
          "name": "stdout",
          "text": [
            "Digite um número real: 10\n",
            "O número é igual a 10\n"
          ]
        }
      ]
    },
    {
      "cell_type": "code",
      "source": [
        "'''\n",
        "Elabore um algoritmo que solicite ao usuário um número real e ao final imprima na tela se o\n",
        "número informado é positivo, negativo ou nulo (zero)\n",
        "'''\n",
        "num1 = float(input(\"Digite um número: \"))\n",
        "if num1 == 0:\n",
        "  print(\"Nulo\")\n",
        "elif num1 > 0:\n",
        "  print(\"Positivo\")\n",
        "else:\n",
        "  print(\"Negativo\")"
      ],
      "metadata": {
        "colab": {
          "base_uri": "https://localhost:8080/"
        },
        "id": "3hcoLdAR9LTk",
        "outputId": "3d652ca7-9c06-49f8-f83c-98b8f51c9384"
      },
      "execution_count": null,
      "outputs": [
        {
          "output_type": "stream",
          "name": "stdout",
          "text": [
            "Digite um número: 0\n",
            "Nulo\n"
          ]
        }
      ]
    },
    {
      "cell_type": "code",
      "source": [
        "'''\n",
        "Elabore um algoritmo que leia um número inteiro e imprima uma das mensagens: é múltiplo\n",
        "de 3, ou, não é múltiplo de 3\n",
        "'''\n",
        "num1 = int(input(\"Digite um número: \"))\n",
        "resto = num1 % 3\n",
        "if resto == 0:\n",
        "  print(\"É múltiplo de 3\")\n",
        "else:\n",
        "  print(\"Não é múltiplo de 3\")"
      ],
      "metadata": {
        "colab": {
          "base_uri": "https://localhost:8080/"
        },
        "id": "iWHMiZt5BM-5",
        "outputId": "c8807329-0152-4825-bf2f-996ee40d4dea"
      },
      "execution_count": null,
      "outputs": [
        {
          "output_type": "stream",
          "name": "stdout",
          "text": [
            "Digite um número: 9\n",
            "Não é múltiplo de 3\n"
          ]
        }
      ]
    },
    {
      "cell_type": "code",
      "source": [
        "'''\n",
        "Refazer o exercício anterior, solicitando antes o múltiplo a ser testado\n",
        "'''\n",
        "num1 = int(input(\"Digite um número: \"))\n",
        "multiplo = int(input(\"Digite o múltiplo: \"))\n",
        "resto = multiplo % num1\n",
        "if resto == 0:\n",
        "  print(num1, \"é múltiplo de\", multiplo)\n",
        "else:\n",
        "  print(num1, \"não é múltiplo de\", multiplo)"
      ],
      "metadata": {
        "colab": {
          "base_uri": "https://localhost:8080/"
        },
        "id": "BcD0u5ZhBvU7",
        "outputId": "d45a0aea-8d83-42e9-e7d6-dd3fdd24ae2d"
      },
      "execution_count": null,
      "outputs": [
        {
          "output_type": "stream",
          "name": "stdout",
          "text": [
            "Digite um número: 3\n",
            "Digite o múltiplo: 10\n",
            "3 não é múltiplo de 10\n"
          ]
        }
      ]
    },
    {
      "cell_type": "code",
      "source": [
        "'''\n",
        "Desenvolva um algoritmo que classifique um número inteiro fornecido pelo usuário como\n",
        "par ou ímpar\n",
        "'''\n",
        "num1 = int(input(\"Digite um número: \"))\n",
        "if num1 % 2 == 0:\n",
        "  print(\"Par\")\n",
        "else:\n",
        "  print(\"Ímpar\")"
      ],
      "metadata": {
        "colab": {
          "base_uri": "https://localhost:8080/"
        },
        "id": "6C7HTZd0Cy4m",
        "outputId": "0a148896-63c7-49db-b4ed-779f3daf5ecc"
      },
      "execution_count": null,
      "outputs": [
        {
          "output_type": "stream",
          "name": "stdout",
          "text": [
            "Digite um número: 22\n",
            "Par\n"
          ]
        }
      ]
    },
    {
      "cell_type": "code",
      "source": [
        "'''\n",
        "Elabore um algoritmo que leia um número, e se ele for maior do que 20, imprimir a metade\n",
        "desse número, caso contrário, imprimir o dobro do número\n",
        "'''\n",
        "num1 = int(input(\"Digite um número: \"))\n",
        "if num1 > 20:\n",
        "  metade = num1/2\n",
        "  print(metade)\n",
        "else:\n",
        "  dobro = num1*2\n",
        "  print(dobro)"
      ],
      "metadata": {
        "colab": {
          "base_uri": "https://localhost:8080/"
        },
        "id": "vVznCgGdDC-0",
        "outputId": "c8b118ae-404e-4c43-cd67-a5e2f5b6da4a"
      },
      "execution_count": null,
      "outputs": [
        {
          "output_type": "stream",
          "name": "stdout",
          "text": [
            "Digite um número: 50\n",
            "25.0\n"
          ]
        }
      ]
    },
    {
      "cell_type": "code",
      "source": [
        "'''\n",
        "Elabore um algoritmo que leia dois números inteiros e realize a adição; caso o resultado\n",
        "seja maior que 10, imprima o quadrado do resultado, caso contrário, imprima a metade dele\n",
        "'''\n",
        "num1 = int(input(\"Digite um número: \"))\n",
        "num2 = int(input(\"Digite o segundo número: \"))\n",
        "soma = num1+num2\n",
        "if soma > 10:\n",
        "  quadrado = soma**2\n",
        "  print(quadrado)\n",
        "else:\n",
        "  metade = soma/2\n",
        "  print(metade)"
      ],
      "metadata": {
        "colab": {
          "base_uri": "https://localhost:8080/"
        },
        "id": "z0dgcQy_Drnf",
        "outputId": "b852a0c5-25c8-4de5-dff4-5b778197d114"
      },
      "execution_count": null,
      "outputs": [
        {
          "output_type": "stream",
          "name": "stdout",
          "text": [
            "Digite um número: 2\n",
            "Digite o segundo número: 4\n",
            "3.0\n"
          ]
        }
      ]
    },
    {
      "cell_type": "code",
      "source": [
        "'''\n",
        "O sistema de avaliação de determinada disciplina é composto por três provas. A primeira\n",
        "prova tem peso 2, a segunda tem peso 3 e a terceira tem peso 5. Considerando que a\n",
        "média para aprovação é 6.0, faça um algoritmo para calcular a média final de um aluno\n",
        "desta disciplina e dizer se o aluno foi aprovado ou não\n",
        "'''\n",
        "notaProva1 = float(input(\"Digite a nota da primeira prova: \"))\n",
        "notaProva2 = float(input(\"Digite a nota da segunda prova: \"))\n",
        "notaProva3 = float(input(\"Digite a nota da terceira prova: \"))\n",
        "media = (notaProva1 + notaProva2 + notaProva3)/3\n",
        "if media >= 6.0:\n",
        "  print(\"Aprovado!!\")\n",
        "else:\n",
        "  print(\"Reprovado!!\")"
      ],
      "metadata": {
        "colab": {
          "base_uri": "https://localhost:8080/"
        },
        "id": "_oLZjIazEcjo",
        "outputId": "cd6dc04e-b09e-4b6d-ca6b-ab061fb5fc6b"
      },
      "execution_count": null,
      "outputs": [
        {
          "output_type": "stream",
          "name": "stdout",
          "text": [
            "Digite a nota da primeira prova: 5\n",
            "Digite a nota da segunda prova: 3\n",
            "Digite a nota da terceira prova: 10\n",
            "Aprovado!!\n"
          ]
        }
      ]
    },
    {
      "cell_type": "code",
      "source": [
        "'''\n",
        "Elabore um algoritmo que leia o nome e o peso de duas pessoas e imprima o nome da\n",
        "pessoa mais pesada\n",
        "'''\n",
        "nomePessoa1 = input(\"Digite seu nome: \")\n",
        "pesoPessoa1 = float(input(\"Digite seu peso: \"))\n",
        "nomePessoa2 = input(\"Digite seu nome: \")\n",
        "pesoPessoa2 = float(input(\"Digite seu peso: \"))\n",
        "if pesoPessoa1 > pesoPessoa2:\n",
        "  print(nomePessoa1)\n",
        "else:\n",
        "  print(nomePessoa2)"
      ],
      "metadata": {
        "colab": {
          "base_uri": "https://localhost:8080/"
        },
        "id": "8v3INTSqFvCm",
        "outputId": "702ce63f-a028-4256-a14e-ba6f85078992"
      },
      "execution_count": null,
      "outputs": [
        {
          "output_type": "stream",
          "name": "stdout",
          "text": [
            "Digite seu nome: Luiz\n",
            "Digite seu peso: 63\n",
            "Digite seu nome: Guilherme\n",
            "Digite seu peso: 72\n",
            "Guilherme\n"
          ]
        }
      ]
    },
    {
      "cell_type": "code",
      "source": [
        "'''\n",
        "Elabore um algoritmo que indique se um número digitado está compreendido entre 20 e\n",
        "90, ou não\n",
        "'''\n",
        "num1 = float(input(\"Digite um número: \"))\n",
        "if num1 >= 20 and num1 <= 90:\n",
        "  print(\"O número está compreendido entre 20 e 90\")\n",
        "else:\n",
        "  print(\"Fora do intervalo!!\")"
      ],
      "metadata": {
        "colab": {
          "base_uri": "https://localhost:8080/"
        },
        "id": "5MWz4UHdGaNr",
        "outputId": "8e66df5b-93d8-4094-a1a9-ed8b7fef8da4"
      },
      "execution_count": null,
      "outputs": [
        {
          "output_type": "stream",
          "name": "stdout",
          "text": [
            "Digite um número: 21\n",
            "O número está compreendido entre 20 e 90\n"
          ]
        }
      ]
    },
    {
      "cell_type": "code",
      "source": [
        "'''\n",
        "Elabore um algoritmo que leia dois números e imprima qual é maior, qual é menor, ou se\n",
        "são iguais\n",
        "'''\n",
        "num1 = int(input(\"Digite um número: \"))\n",
        "num2 = int(input(\"Digite outro número: \"))\n",
        "if num1 == num2:\n",
        "  print(\"São iguais\")\n",
        "elif num1 > num2:\n",
        "  print(num1,\"é maior que\", num2)\n",
        "else:\n",
        "  print(num2,\"é maior que\", num1)"
      ],
      "metadata": {
        "colab": {
          "base_uri": "https://localhost:8080/"
        },
        "id": "F4e4hh8xHbP3",
        "outputId": "5cf5bd2c-213e-4b94-b797-81229233f32a"
      },
      "execution_count": null,
      "outputs": [
        {
          "output_type": "stream",
          "name": "stdout",
          "text": [
            "Digite um número: 6\n",
            "Digite outro número: 6\n",
            "São iguais\n"
          ]
        }
      ]
    },
    {
      "cell_type": "markdown",
      "source": [
        "Escreva um programa em linguagem C que solicite ao usuário a média para aprovação em um curso e em seguida solicite ao usuário o nome, sexo e as 03 notas do aluno e ao final imprima a frase: \"O aluno XXXXX foi aprovado com media YY\" considerando o gênero do(a) aluno(a) e se foi aprovado(a) ou reprovado(a)\n",
        "\n",
        "https://onlinegdb.com/zQ5IdpZrg"
      ],
      "metadata": {
        "id": "EeFXMGLIP86j"
      }
    },
    {
      "cell_type": "markdown",
      "source": [
        "# **Lista 03**"
      ],
      "metadata": {
        "id": "bOlDYuQzPQRj"
      }
    },
    {
      "cell_type": "code",
      "execution_count": null,
      "metadata": {
        "colab": {
          "base_uri": "https://localhost:8080/"
        },
        "id": "8dXAjuaAFIOR",
        "outputId": "38e26bf0-2117-492c-daa1-8132eb85b853"
      },
      "outputs": [
        {
          "output_type": "stream",
          "name": "stdout",
          "text": [
            "Hello world! Hello world! Hello world! Hello world! Hello world! Hello world! Hello world! Hello world! Hello world! Hello world! "
          ]
        }
      ],
      "source": [
        "'''\n",
        "Elabore um algoritmo que imprima na tela lado a lado o texto \"Hello World!\" 10 vezes\n",
        "'''\n",
        "for i in range (10):\n",
        "  print(\"Hello world!\", end=' ')"
      ]
    },
    {
      "cell_type": "code",
      "source": [
        "'''\n",
        "Elabore um algoritmo que imprima na tela o texto \"Hello World!\" 10 vezes, um por linha\n",
        "'''\n",
        "for i in range (10):\n",
        "  print(\"Hello world!\")"
      ],
      "metadata": {
        "colab": {
          "base_uri": "https://localhost:8080/"
        },
        "id": "kNxqNQ3yIbo0",
        "outputId": "bbda38d8-1b1c-4bee-897b-efe8c4ae9979"
      },
      "execution_count": null,
      "outputs": [
        {
          "output_type": "stream",
          "name": "stdout",
          "text": [
            "Hello world!\n",
            "Hello world!\n",
            "Hello world!\n",
            "Hello world!\n",
            "Hello world!\n",
            "Hello world!\n",
            "Hello world!\n",
            "Hello world!\n",
            "Hello world!\n",
            "Hello world!\n"
          ]
        }
      ]
    },
    {
      "cell_type": "code",
      "source": [
        "'''\n",
        "Elabore um algoritmo que imprima todos os números inteiros de 1 até 100 inclusive\n",
        "'''\n",
        "for numeros in range (0, 100):\n",
        "  print(numeros+1)"
      ],
      "metadata": {
        "colab": {
          "base_uri": "https://localhost:8080/"
        },
        "id": "eA-8Ou4sIhfp",
        "outputId": "32378a49-5504-452d-a151-4cdc0e4f13eb"
      },
      "execution_count": null,
      "outputs": [
        {
          "output_type": "stream",
          "name": "stdout",
          "text": [
            "1\n",
            "2\n",
            "3\n",
            "4\n",
            "5\n",
            "6\n",
            "7\n",
            "8\n",
            "9\n",
            "10\n",
            "11\n",
            "12\n",
            "13\n",
            "14\n",
            "15\n",
            "16\n",
            "17\n",
            "18\n",
            "19\n",
            "20\n",
            "21\n",
            "22\n",
            "23\n",
            "24\n",
            "25\n",
            "26\n",
            "27\n",
            "28\n",
            "29\n",
            "30\n",
            "31\n",
            "32\n",
            "33\n",
            "34\n",
            "35\n",
            "36\n",
            "37\n",
            "38\n",
            "39\n",
            "40\n",
            "41\n",
            "42\n",
            "43\n",
            "44\n",
            "45\n",
            "46\n",
            "47\n",
            "48\n",
            "49\n",
            "50\n",
            "51\n",
            "52\n",
            "53\n",
            "54\n",
            "55\n",
            "56\n",
            "57\n",
            "58\n",
            "59\n",
            "60\n",
            "61\n",
            "62\n",
            "63\n",
            "64\n",
            "65\n",
            "66\n",
            "67\n",
            "68\n",
            "69\n",
            "70\n",
            "71\n",
            "72\n",
            "73\n",
            "74\n",
            "75\n",
            "76\n",
            "77\n",
            "78\n",
            "79\n",
            "80\n",
            "81\n",
            "82\n",
            "83\n",
            "84\n",
            "85\n",
            "86\n",
            "87\n",
            "88\n",
            "89\n",
            "90\n",
            "91\n",
            "92\n",
            "93\n",
            "94\n",
            "95\n",
            "96\n",
            "97\n",
            "98\n",
            "99\n",
            "100\n"
          ]
        }
      ]
    },
    {
      "cell_type": "code",
      "source": [
        "'''\n",
        "Elabore um algoritmo que imprima 100 vezes o texto \"1- Hello World!\" com o número\n",
        "'''\n",
        "for num in range (100):\n",
        "  print(num, \"- Hello world!\")"
      ],
      "metadata": {
        "colab": {
          "base_uri": "https://localhost:8080/"
        },
        "id": "2qJrmIM_I7-A",
        "outputId": "bd11befc-feea-4aa6-e21b-36a20deab6ba"
      },
      "execution_count": null,
      "outputs": [
        {
          "output_type": "stream",
          "name": "stdout",
          "text": [
            "0 - Hello world!\n",
            "1 - Hello world!\n",
            "2 - Hello world!\n",
            "3 - Hello world!\n",
            "4 - Hello world!\n",
            "5 - Hello world!\n",
            "6 - Hello world!\n",
            "7 - Hello world!\n",
            "8 - Hello world!\n",
            "9 - Hello world!\n",
            "10 - Hello world!\n",
            "11 - Hello world!\n",
            "12 - Hello world!\n",
            "13 - Hello world!\n",
            "14 - Hello world!\n",
            "15 - Hello world!\n",
            "16 - Hello world!\n",
            "17 - Hello world!\n",
            "18 - Hello world!\n",
            "19 - Hello world!\n",
            "20 - Hello world!\n",
            "21 - Hello world!\n",
            "22 - Hello world!\n",
            "23 - Hello world!\n",
            "24 - Hello world!\n",
            "25 - Hello world!\n",
            "26 - Hello world!\n",
            "27 - Hello world!\n",
            "28 - Hello world!\n",
            "29 - Hello world!\n",
            "30 - Hello world!\n",
            "31 - Hello world!\n",
            "32 - Hello world!\n",
            "33 - Hello world!\n",
            "34 - Hello world!\n",
            "35 - Hello world!\n",
            "36 - Hello world!\n",
            "37 - Hello world!\n",
            "38 - Hello world!\n",
            "39 - Hello world!\n",
            "40 - Hello world!\n",
            "41 - Hello world!\n",
            "42 - Hello world!\n",
            "43 - Hello world!\n",
            "44 - Hello world!\n",
            "45 - Hello world!\n",
            "46 - Hello world!\n",
            "47 - Hello world!\n",
            "48 - Hello world!\n",
            "49 - Hello world!\n",
            "50 - Hello world!\n",
            "51 - Hello world!\n",
            "52 - Hello world!\n",
            "53 - Hello world!\n",
            "54 - Hello world!\n",
            "55 - Hello world!\n",
            "56 - Hello world!\n",
            "57 - Hello world!\n",
            "58 - Hello world!\n",
            "59 - Hello world!\n",
            "60 - Hello world!\n",
            "61 - Hello world!\n",
            "62 - Hello world!\n",
            "63 - Hello world!\n",
            "64 - Hello world!\n",
            "65 - Hello world!\n",
            "66 - Hello world!\n",
            "67 - Hello world!\n",
            "68 - Hello world!\n",
            "69 - Hello world!\n",
            "70 - Hello world!\n",
            "71 - Hello world!\n",
            "72 - Hello world!\n",
            "73 - Hello world!\n",
            "74 - Hello world!\n",
            "75 - Hello world!\n",
            "76 - Hello world!\n",
            "77 - Hello world!\n",
            "78 - Hello world!\n",
            "79 - Hello world!\n",
            "80 - Hello world!\n",
            "81 - Hello world!\n",
            "82 - Hello world!\n",
            "83 - Hello world!\n",
            "84 - Hello world!\n",
            "85 - Hello world!\n",
            "86 - Hello world!\n",
            "87 - Hello world!\n",
            "88 - Hello world!\n",
            "89 - Hello world!\n",
            "90 - Hello world!\n",
            "91 - Hello world!\n",
            "92 - Hello world!\n",
            "93 - Hello world!\n",
            "94 - Hello world!\n",
            "95 - Hello world!\n",
            "96 - Hello world!\n",
            "97 - Hello world!\n",
            "98 - Hello world!\n",
            "99 - Hello world!\n"
          ]
        }
      ]
    },
    {
      "cell_type": "code",
      "source": [
        "'''\n",
        "Elabore um algoritmo que imprima todos os números decrescentes de 100 até 0 inclusive\n",
        "'''\n",
        "for num in range (100, -1, -1):\n",
        "  print(num)"
      ],
      "metadata": {
        "colab": {
          "base_uri": "https://localhost:8080/"
        },
        "id": "H7VzqXNPJnKQ",
        "outputId": "368a0c79-cca1-44d0-e16c-427e62e94216"
      },
      "execution_count": null,
      "outputs": [
        {
          "output_type": "stream",
          "name": "stdout",
          "text": [
            "100\n",
            "99\n",
            "98\n",
            "97\n",
            "96\n",
            "95\n",
            "94\n",
            "93\n",
            "92\n",
            "91\n",
            "90\n",
            "89\n",
            "88\n",
            "87\n",
            "86\n",
            "85\n",
            "84\n",
            "83\n",
            "82\n",
            "81\n",
            "80\n",
            "79\n",
            "78\n",
            "77\n",
            "76\n",
            "75\n",
            "74\n",
            "73\n",
            "72\n",
            "71\n",
            "70\n",
            "69\n",
            "68\n",
            "67\n",
            "66\n",
            "65\n",
            "64\n",
            "63\n",
            "62\n",
            "61\n",
            "60\n",
            "59\n",
            "58\n",
            "57\n",
            "56\n",
            "55\n",
            "54\n",
            "53\n",
            "52\n",
            "51\n",
            "50\n",
            "49\n",
            "48\n",
            "47\n",
            "46\n",
            "45\n",
            "44\n",
            "43\n",
            "42\n",
            "41\n",
            "40\n",
            "39\n",
            "38\n",
            "37\n",
            "36\n",
            "35\n",
            "34\n",
            "33\n",
            "32\n",
            "31\n",
            "30\n",
            "29\n",
            "28\n",
            "27\n",
            "26\n",
            "25\n",
            "24\n",
            "23\n",
            "22\n",
            "21\n",
            "20\n",
            "19\n",
            "18\n",
            "17\n",
            "16\n",
            "15\n",
            "14\n",
            "13\n",
            "12\n",
            "11\n",
            "10\n",
            "9\n",
            "8\n",
            "7\n",
            "6\n",
            "5\n",
            "4\n",
            "3\n",
            "2\n",
            "1\n",
            "0\n"
          ]
        }
      ]
    },
    {
      "cell_type": "code",
      "source": [
        "'''\n",
        "Elabore um algoritmo que imprima todos os números pares inteiros de 1 até 1000\n",
        "'''\n",
        "for contador in range (1, 1000):\n",
        "  if contador%2==0:\n",
        "    print(contador)"
      ],
      "metadata": {
        "colab": {
          "base_uri": "https://localhost:8080/"
        },
        "id": "xFQlkhsKKvZv",
        "outputId": "8372ba23-638d-4a1b-a268-93042d43e61c"
      },
      "execution_count": null,
      "outputs": [
        {
          "output_type": "stream",
          "name": "stdout",
          "text": [
            "2\n",
            "4\n",
            "6\n",
            "8\n",
            "10\n",
            "12\n",
            "14\n",
            "16\n",
            "18\n",
            "20\n",
            "22\n",
            "24\n",
            "26\n",
            "28\n",
            "30\n",
            "32\n",
            "34\n",
            "36\n",
            "38\n",
            "40\n",
            "42\n",
            "44\n",
            "46\n",
            "48\n",
            "50\n",
            "52\n",
            "54\n",
            "56\n",
            "58\n",
            "60\n",
            "62\n",
            "64\n",
            "66\n",
            "68\n",
            "70\n",
            "72\n",
            "74\n",
            "76\n",
            "78\n",
            "80\n",
            "82\n",
            "84\n",
            "86\n",
            "88\n",
            "90\n",
            "92\n",
            "94\n",
            "96\n",
            "98\n",
            "100\n",
            "102\n",
            "104\n",
            "106\n",
            "108\n",
            "110\n",
            "112\n",
            "114\n",
            "116\n",
            "118\n",
            "120\n",
            "122\n",
            "124\n",
            "126\n",
            "128\n",
            "130\n",
            "132\n",
            "134\n",
            "136\n",
            "138\n",
            "140\n",
            "142\n",
            "144\n",
            "146\n",
            "148\n",
            "150\n",
            "152\n",
            "154\n",
            "156\n",
            "158\n",
            "160\n",
            "162\n",
            "164\n",
            "166\n",
            "168\n",
            "170\n",
            "172\n",
            "174\n",
            "176\n",
            "178\n",
            "180\n",
            "182\n",
            "184\n",
            "186\n",
            "188\n",
            "190\n",
            "192\n",
            "194\n",
            "196\n",
            "198\n",
            "200\n",
            "202\n",
            "204\n",
            "206\n",
            "208\n",
            "210\n",
            "212\n",
            "214\n",
            "216\n",
            "218\n",
            "220\n",
            "222\n",
            "224\n",
            "226\n",
            "228\n",
            "230\n",
            "232\n",
            "234\n",
            "236\n",
            "238\n",
            "240\n",
            "242\n",
            "244\n",
            "246\n",
            "248\n",
            "250\n",
            "252\n",
            "254\n",
            "256\n",
            "258\n",
            "260\n",
            "262\n",
            "264\n",
            "266\n",
            "268\n",
            "270\n",
            "272\n",
            "274\n",
            "276\n",
            "278\n",
            "280\n",
            "282\n",
            "284\n",
            "286\n",
            "288\n",
            "290\n",
            "292\n",
            "294\n",
            "296\n",
            "298\n",
            "300\n",
            "302\n",
            "304\n",
            "306\n",
            "308\n",
            "310\n",
            "312\n",
            "314\n",
            "316\n",
            "318\n",
            "320\n",
            "322\n",
            "324\n",
            "326\n",
            "328\n",
            "330\n",
            "332\n",
            "334\n",
            "336\n",
            "338\n",
            "340\n",
            "342\n",
            "344\n",
            "346\n",
            "348\n",
            "350\n",
            "352\n",
            "354\n",
            "356\n",
            "358\n",
            "360\n",
            "362\n",
            "364\n",
            "366\n",
            "368\n",
            "370\n",
            "372\n",
            "374\n",
            "376\n",
            "378\n",
            "380\n",
            "382\n",
            "384\n",
            "386\n",
            "388\n",
            "390\n",
            "392\n",
            "394\n",
            "396\n",
            "398\n",
            "400\n",
            "402\n",
            "404\n",
            "406\n",
            "408\n",
            "410\n",
            "412\n",
            "414\n",
            "416\n",
            "418\n",
            "420\n",
            "422\n",
            "424\n",
            "426\n",
            "428\n",
            "430\n",
            "432\n",
            "434\n",
            "436\n",
            "438\n",
            "440\n",
            "442\n",
            "444\n",
            "446\n",
            "448\n",
            "450\n",
            "452\n",
            "454\n",
            "456\n",
            "458\n",
            "460\n",
            "462\n",
            "464\n",
            "466\n",
            "468\n",
            "470\n",
            "472\n",
            "474\n",
            "476\n",
            "478\n",
            "480\n",
            "482\n",
            "484\n",
            "486\n",
            "488\n",
            "490\n",
            "492\n",
            "494\n",
            "496\n",
            "498\n",
            "500\n",
            "502\n",
            "504\n",
            "506\n",
            "508\n",
            "510\n",
            "512\n",
            "514\n",
            "516\n",
            "518\n",
            "520\n",
            "522\n",
            "524\n",
            "526\n",
            "528\n",
            "530\n",
            "532\n",
            "534\n",
            "536\n",
            "538\n",
            "540\n",
            "542\n",
            "544\n",
            "546\n",
            "548\n",
            "550\n",
            "552\n",
            "554\n",
            "556\n",
            "558\n",
            "560\n",
            "562\n",
            "564\n",
            "566\n",
            "568\n",
            "570\n",
            "572\n",
            "574\n",
            "576\n",
            "578\n",
            "580\n",
            "582\n",
            "584\n",
            "586\n",
            "588\n",
            "590\n",
            "592\n",
            "594\n",
            "596\n",
            "598\n",
            "600\n",
            "602\n",
            "604\n",
            "606\n",
            "608\n",
            "610\n",
            "612\n",
            "614\n",
            "616\n",
            "618\n",
            "620\n",
            "622\n",
            "624\n",
            "626\n",
            "628\n",
            "630\n",
            "632\n",
            "634\n",
            "636\n",
            "638\n",
            "640\n",
            "642\n",
            "644\n",
            "646\n",
            "648\n",
            "650\n",
            "652\n",
            "654\n",
            "656\n",
            "658\n",
            "660\n",
            "662\n",
            "664\n",
            "666\n",
            "668\n",
            "670\n",
            "672\n",
            "674\n",
            "676\n",
            "678\n",
            "680\n",
            "682\n",
            "684\n",
            "686\n",
            "688\n",
            "690\n",
            "692\n",
            "694\n",
            "696\n",
            "698\n",
            "700\n",
            "702\n",
            "704\n",
            "706\n",
            "708\n",
            "710\n",
            "712\n",
            "714\n",
            "716\n",
            "718\n",
            "720\n",
            "722\n",
            "724\n",
            "726\n",
            "728\n",
            "730\n",
            "732\n",
            "734\n",
            "736\n",
            "738\n",
            "740\n",
            "742\n",
            "744\n",
            "746\n",
            "748\n",
            "750\n",
            "752\n",
            "754\n",
            "756\n",
            "758\n",
            "760\n",
            "762\n",
            "764\n",
            "766\n",
            "768\n",
            "770\n",
            "772\n",
            "774\n",
            "776\n",
            "778\n",
            "780\n",
            "782\n",
            "784\n",
            "786\n",
            "788\n",
            "790\n",
            "792\n",
            "794\n",
            "796\n",
            "798\n",
            "800\n",
            "802\n",
            "804\n",
            "806\n",
            "808\n",
            "810\n",
            "812\n",
            "814\n",
            "816\n",
            "818\n",
            "820\n",
            "822\n",
            "824\n",
            "826\n",
            "828\n",
            "830\n",
            "832\n",
            "834\n",
            "836\n",
            "838\n",
            "840\n",
            "842\n",
            "844\n",
            "846\n",
            "848\n",
            "850\n",
            "852\n",
            "854\n",
            "856\n",
            "858\n",
            "860\n",
            "862\n",
            "864\n",
            "866\n",
            "868\n",
            "870\n",
            "872\n",
            "874\n",
            "876\n",
            "878\n",
            "880\n",
            "882\n",
            "884\n",
            "886\n",
            "888\n",
            "890\n",
            "892\n",
            "894\n",
            "896\n",
            "898\n",
            "900\n",
            "902\n",
            "904\n",
            "906\n",
            "908\n",
            "910\n",
            "912\n",
            "914\n",
            "916\n",
            "918\n",
            "920\n",
            "922\n",
            "924\n",
            "926\n",
            "928\n",
            "930\n",
            "932\n",
            "934\n",
            "936\n",
            "938\n",
            "940\n",
            "942\n",
            "944\n",
            "946\n",
            "948\n",
            "950\n",
            "952\n",
            "954\n",
            "956\n",
            "958\n",
            "960\n",
            "962\n",
            "964\n",
            "966\n",
            "968\n",
            "970\n",
            "972\n",
            "974\n",
            "976\n",
            "978\n",
            "980\n",
            "982\n",
            "984\n",
            "986\n",
            "988\n",
            "990\n",
            "992\n",
            "994\n",
            "996\n",
            "998\n"
          ]
        }
      ]
    },
    {
      "cell_type": "code",
      "source": [
        "'''\n",
        "Elabore um algoritmo que imprima todos os números ímpares de 1000 até 0\n",
        "'''\n",
        "for contador in range (1000, -1, -1):\n",
        "  if contador%2==1:\n",
        "    print(contador)"
      ],
      "metadata": {
        "colab": {
          "base_uri": "https://localhost:8080/"
        },
        "id": "OgMVlodPNhgD",
        "outputId": "b0047250-87a4-4654-c43f-c560597cc0d4"
      },
      "execution_count": null,
      "outputs": [
        {
          "output_type": "stream",
          "name": "stdout",
          "text": [
            "999\n",
            "997\n",
            "995\n",
            "993\n",
            "991\n",
            "989\n",
            "987\n",
            "985\n",
            "983\n",
            "981\n",
            "979\n",
            "977\n",
            "975\n",
            "973\n",
            "971\n",
            "969\n",
            "967\n",
            "965\n",
            "963\n",
            "961\n",
            "959\n",
            "957\n",
            "955\n",
            "953\n",
            "951\n",
            "949\n",
            "947\n",
            "945\n",
            "943\n",
            "941\n",
            "939\n",
            "937\n",
            "935\n",
            "933\n",
            "931\n",
            "929\n",
            "927\n",
            "925\n",
            "923\n",
            "921\n",
            "919\n",
            "917\n",
            "915\n",
            "913\n",
            "911\n",
            "909\n",
            "907\n",
            "905\n",
            "903\n",
            "901\n",
            "899\n",
            "897\n",
            "895\n",
            "893\n",
            "891\n",
            "889\n",
            "887\n",
            "885\n",
            "883\n",
            "881\n",
            "879\n",
            "877\n",
            "875\n",
            "873\n",
            "871\n",
            "869\n",
            "867\n",
            "865\n",
            "863\n",
            "861\n",
            "859\n",
            "857\n",
            "855\n",
            "853\n",
            "851\n",
            "849\n",
            "847\n",
            "845\n",
            "843\n",
            "841\n",
            "839\n",
            "837\n",
            "835\n",
            "833\n",
            "831\n",
            "829\n",
            "827\n",
            "825\n",
            "823\n",
            "821\n",
            "819\n",
            "817\n",
            "815\n",
            "813\n",
            "811\n",
            "809\n",
            "807\n",
            "805\n",
            "803\n",
            "801\n",
            "799\n",
            "797\n",
            "795\n",
            "793\n",
            "791\n",
            "789\n",
            "787\n",
            "785\n",
            "783\n",
            "781\n",
            "779\n",
            "777\n",
            "775\n",
            "773\n",
            "771\n",
            "769\n",
            "767\n",
            "765\n",
            "763\n",
            "761\n",
            "759\n",
            "757\n",
            "755\n",
            "753\n",
            "751\n",
            "749\n",
            "747\n",
            "745\n",
            "743\n",
            "741\n",
            "739\n",
            "737\n",
            "735\n",
            "733\n",
            "731\n",
            "729\n",
            "727\n",
            "725\n",
            "723\n",
            "721\n",
            "719\n",
            "717\n",
            "715\n",
            "713\n",
            "711\n",
            "709\n",
            "707\n",
            "705\n",
            "703\n",
            "701\n",
            "699\n",
            "697\n",
            "695\n",
            "693\n",
            "691\n",
            "689\n",
            "687\n",
            "685\n",
            "683\n",
            "681\n",
            "679\n",
            "677\n",
            "675\n",
            "673\n",
            "671\n",
            "669\n",
            "667\n",
            "665\n",
            "663\n",
            "661\n",
            "659\n",
            "657\n",
            "655\n",
            "653\n",
            "651\n",
            "649\n",
            "647\n",
            "645\n",
            "643\n",
            "641\n",
            "639\n",
            "637\n",
            "635\n",
            "633\n",
            "631\n",
            "629\n",
            "627\n",
            "625\n",
            "623\n",
            "621\n",
            "619\n",
            "617\n",
            "615\n",
            "613\n",
            "611\n",
            "609\n",
            "607\n",
            "605\n",
            "603\n",
            "601\n",
            "599\n",
            "597\n",
            "595\n",
            "593\n",
            "591\n",
            "589\n",
            "587\n",
            "585\n",
            "583\n",
            "581\n",
            "579\n",
            "577\n",
            "575\n",
            "573\n",
            "571\n",
            "569\n",
            "567\n",
            "565\n",
            "563\n",
            "561\n",
            "559\n",
            "557\n",
            "555\n",
            "553\n",
            "551\n",
            "549\n",
            "547\n",
            "545\n",
            "543\n",
            "541\n",
            "539\n",
            "537\n",
            "535\n",
            "533\n",
            "531\n",
            "529\n",
            "527\n",
            "525\n",
            "523\n",
            "521\n",
            "519\n",
            "517\n",
            "515\n",
            "513\n",
            "511\n",
            "509\n",
            "507\n",
            "505\n",
            "503\n",
            "501\n",
            "499\n",
            "497\n",
            "495\n",
            "493\n",
            "491\n",
            "489\n",
            "487\n",
            "485\n",
            "483\n",
            "481\n",
            "479\n",
            "477\n",
            "475\n",
            "473\n",
            "471\n",
            "469\n",
            "467\n",
            "465\n",
            "463\n",
            "461\n",
            "459\n",
            "457\n",
            "455\n",
            "453\n",
            "451\n",
            "449\n",
            "447\n",
            "445\n",
            "443\n",
            "441\n",
            "439\n",
            "437\n",
            "435\n",
            "433\n",
            "431\n",
            "429\n",
            "427\n",
            "425\n",
            "423\n",
            "421\n",
            "419\n",
            "417\n",
            "415\n",
            "413\n",
            "411\n",
            "409\n",
            "407\n",
            "405\n",
            "403\n",
            "401\n",
            "399\n",
            "397\n",
            "395\n",
            "393\n",
            "391\n",
            "389\n",
            "387\n",
            "385\n",
            "383\n",
            "381\n",
            "379\n",
            "377\n",
            "375\n",
            "373\n",
            "371\n",
            "369\n",
            "367\n",
            "365\n",
            "363\n",
            "361\n",
            "359\n",
            "357\n",
            "355\n",
            "353\n",
            "351\n",
            "349\n",
            "347\n",
            "345\n",
            "343\n",
            "341\n",
            "339\n",
            "337\n",
            "335\n",
            "333\n",
            "331\n",
            "329\n",
            "327\n",
            "325\n",
            "323\n",
            "321\n",
            "319\n",
            "317\n",
            "315\n",
            "313\n",
            "311\n",
            "309\n",
            "307\n",
            "305\n",
            "303\n",
            "301\n",
            "299\n",
            "297\n",
            "295\n",
            "293\n",
            "291\n",
            "289\n",
            "287\n",
            "285\n",
            "283\n",
            "281\n",
            "279\n",
            "277\n",
            "275\n",
            "273\n",
            "271\n",
            "269\n",
            "267\n",
            "265\n",
            "263\n",
            "261\n",
            "259\n",
            "257\n",
            "255\n",
            "253\n",
            "251\n",
            "249\n",
            "247\n",
            "245\n",
            "243\n",
            "241\n",
            "239\n",
            "237\n",
            "235\n",
            "233\n",
            "231\n",
            "229\n",
            "227\n",
            "225\n",
            "223\n",
            "221\n",
            "219\n",
            "217\n",
            "215\n",
            "213\n",
            "211\n",
            "209\n",
            "207\n",
            "205\n",
            "203\n",
            "201\n",
            "199\n",
            "197\n",
            "195\n",
            "193\n",
            "191\n",
            "189\n",
            "187\n",
            "185\n",
            "183\n",
            "181\n",
            "179\n",
            "177\n",
            "175\n",
            "173\n",
            "171\n",
            "169\n",
            "167\n",
            "165\n",
            "163\n",
            "161\n",
            "159\n",
            "157\n",
            "155\n",
            "153\n",
            "151\n",
            "149\n",
            "147\n",
            "145\n",
            "143\n",
            "141\n",
            "139\n",
            "137\n",
            "135\n",
            "133\n",
            "131\n",
            "129\n",
            "127\n",
            "125\n",
            "123\n",
            "121\n",
            "119\n",
            "117\n",
            "115\n",
            "113\n",
            "111\n",
            "109\n",
            "107\n",
            "105\n",
            "103\n",
            "101\n",
            "99\n",
            "97\n",
            "95\n",
            "93\n",
            "91\n",
            "89\n",
            "87\n",
            "85\n",
            "83\n",
            "81\n",
            "79\n",
            "77\n",
            "75\n",
            "73\n",
            "71\n",
            "69\n",
            "67\n",
            "65\n",
            "63\n",
            "61\n",
            "59\n",
            "57\n",
            "55\n",
            "53\n",
            "51\n",
            "49\n",
            "47\n",
            "45\n",
            "43\n",
            "41\n",
            "39\n",
            "37\n",
            "35\n",
            "33\n",
            "31\n",
            "29\n",
            "27\n",
            "25\n",
            "23\n",
            "21\n",
            "19\n",
            "17\n",
            "15\n",
            "13\n",
            "11\n",
            "9\n",
            "7\n",
            "5\n",
            "3\n",
            "1\n"
          ]
        }
      ]
    },
    {
      "cell_type": "code",
      "source": [
        "'''\n",
        "Elabore um algoritmo que imprima a soma dos 100 primeiros números inteiros positivos\n",
        "'''\n",
        "soma=0\n",
        "for contador in range (100):\n",
        "  if contador%2==0:\n",
        "    soma += contador\n",
        "    print(soma)"
      ],
      "metadata": {
        "colab": {
          "base_uri": "https://localhost:8080/"
        },
        "id": "2X_9pzrNMKRp",
        "outputId": "fa33427a-105d-4207-b4cf-3adfcb5fba8e"
      },
      "execution_count": null,
      "outputs": [
        {
          "output_type": "stream",
          "name": "stdout",
          "text": [
            "0\n",
            "2\n",
            "6\n",
            "12\n",
            "20\n",
            "30\n",
            "42\n",
            "56\n",
            "72\n",
            "90\n",
            "110\n",
            "132\n",
            "156\n",
            "182\n",
            "210\n",
            "240\n",
            "272\n",
            "306\n",
            "342\n",
            "380\n",
            "420\n",
            "462\n",
            "506\n",
            "552\n",
            "600\n",
            "650\n",
            "702\n",
            "756\n",
            "812\n",
            "870\n",
            "930\n",
            "992\n",
            "1056\n",
            "1122\n",
            "1190\n",
            "1260\n",
            "1332\n",
            "1406\n",
            "1482\n",
            "1560\n",
            "1640\n",
            "1722\n",
            "1806\n",
            "1892\n",
            "1980\n",
            "2070\n",
            "2162\n",
            "2256\n",
            "2352\n",
            "2450\n"
          ]
        }
      ]
    },
    {
      "cell_type": "code",
      "source": [
        "'''\n",
        "Elabore um algoritmo que solicite ao usuário um número inteiro que indicará a quantidade\n",
        "de vezes que o texto \"Hello World!\" será impresso na tela, um em cada linha.\n",
        "'''\n",
        "contador = int(input(\"Digite a quantidade de vezes que 'Hello world!' será repetido: \"))\n",
        "for contador in range (contador):\n",
        "  print(\"Hello world!\")"
      ],
      "metadata": {
        "colab": {
          "base_uri": "https://localhost:8080/"
        },
        "id": "FOuAbxpbNQjc",
        "outputId": "57aaa327-9669-4100-a780-d4820e571658"
      },
      "execution_count": null,
      "outputs": [
        {
          "output_type": "stream",
          "name": "stdout",
          "text": [
            "Digite a quantidade de vezes a serem repetidas5\n",
            "Hello world!\n",
            "Hello world!\n",
            "Hello world!\n",
            "Hello world!\n",
            "Hello world!\n"
          ]
        }
      ]
    },
    {
      "cell_type": "code",
      "source": [
        "'''\n",
        "Elabore um algoritmo que solicite ao usuário uma palavra e um número inteiro que\n",
        "indicará a quantidade de vezes que a palavra digitada será impressa na tela, um em cada\n",
        "linha\n",
        "'''\n",
        "palavra = input(\"Digite uma palavra qualquer: \")\n",
        "contador = int(input(\"Digite a quantidade de vezes que a palavra será repetida: \"))\n",
        "for contador in range (contador):\n",
        "  print(palavra)"
      ],
      "metadata": {
        "colab": {
          "base_uri": "https://localhost:8080/"
        },
        "id": "5JpVSra0NsU_",
        "outputId": "a72902c1-c0cd-4e7d-ad0a-1a8ef4685d2c"
      },
      "execution_count": null,
      "outputs": [
        {
          "output_type": "stream",
          "name": "stdout",
          "text": [
            "Digite uma palavra qualquer: aviao\n",
            "Digite a quantidade de vezes que a palavra será repetida: 3\n",
            "aviao\n",
            "aviao\n",
            "aviao\n"
          ]
        }
      ]
    },
    {
      "cell_type": "code",
      "source": [
        "'''\n",
        "Elabore um algoritmo que leia um número de entrada que indicará a quantidade de\n",
        "números a serem lidos. Em seguida, leia n números (conforme o valor informado\n",
        "anteriormente) e imprima a soma e a média aritmética dos números informados\n",
        "'''\n",
        "contador = 0\n",
        "soma = 0\n",
        "aritmetica = 0\n",
        "\n",
        "qntd_numeros_ler = int(input(\"Digite a quantidade de números a serem lidos para soma e média aritmética: \"))\n",
        "\n",
        "while contador < qntd_numeros_ler:\n",
        "  numeros = int(input(\"Digite um número: \"))\n",
        "  contador += 1\n",
        "  soma += numeros\n",
        "  aritmetica += (numeros)/qntd_numeros_ler\n",
        "print(soma)\n",
        "print(aritmetica)"
      ],
      "metadata": {
        "id": "eAxW43p3OPMA",
        "colab": {
          "base_uri": "https://localhost:8080/"
        },
        "outputId": "3380a734-2a3e-4438-8be0-d2bdcdb9383a"
      },
      "execution_count": null,
      "outputs": [
        {
          "output_type": "stream",
          "name": "stdout",
          "text": [
            "Digite a quantidade de números a serem lidos para soma e média aritmética: 4\n",
            "Digite um número: 3\n",
            "Digite um número: 2\n",
            "Digite um número: 4\n",
            "Digite um número: 5\n",
            "14\n",
            "7.0\n"
          ]
        }
      ]
    },
    {
      "cell_type": "code",
      "source": [
        "'''\n",
        "Elabore um algoritmo que leia um número de entrada que indicará a quantidade de\n",
        "registros a serem lidos (N). Em seguida algoritmo deve solicitar o nome e idade de N\n",
        "pessoas e ao final apresentar o nome da pessoa mais velha\n",
        "'''\n",
        "contador = 0\n",
        "idade_mais_velha = 0\n",
        "nome_mais_velho = \"\"\n",
        "\n",
        "qntd_pessoas_ler = int(input(\"Digite o número de pessoas a serem registradas: \"))\n",
        "\n",
        "while contador < qntd_pessoas_ler:\n",
        "  nome = input(\"Digite seu nome: \")\n",
        "  idade = int(input(\"Digite sua idade: \"))\n",
        "  contador += 1\n",
        "  if idade > idade_mais_velha:\n",
        "    idade_mais_velha = idade\n",
        "    nome_mais_velho = nome\n",
        "print(nome_mais_velho)"
      ],
      "metadata": {
        "colab": {
          "base_uri": "https://localhost:8080/"
        },
        "id": "nHHBoBBnic-x",
        "outputId": "62a48afc-c03c-4f06-9709-82b7769dee5b"
      },
      "execution_count": null,
      "outputs": [
        {
          "output_type": "stream",
          "name": "stdout",
          "text": [
            "Digite o número de pessoas a serem registradas: 3\n",
            "Digite seu nome: Eduardo\n",
            "Digite sua idade: 20\n",
            "Digite seu nome: Guilherme\n",
            "Digite sua idade: 17\n",
            "Digite seu nome: Cadu\n",
            "Digite sua idade: 18\n",
            "Eduardo\n"
          ]
        }
      ]
    },
    {
      "cell_type": "code",
      "source": [
        "'''\n",
        "Elabore um algoritmo que leia um número de entrada que indicará a quantidade de\n",
        "registros a serem lidos (N). Em seguida algoritmo deve solicitar o sexo (M/F) e idade de N\n",
        "pessoas e ao final apresentar a média de idade de ambos os gêneros catalogados\n",
        "'''\n",
        "contador = 0\n",
        "media = 0\n",
        "\n",
        "qntd_pessoas_ler = int(input(\"Digite o número de pessoas a serem registradas: \"))\n",
        "\n",
        "while contador < qntd_pessoas_ler:\n",
        "  sexo = input(\"Digite seu sexo usando M (Masculino) e F (Feminino): \")\n",
        "  idade = int(input(\"Digite a sua idade: \"))\n",
        "  media += (idade)/qntd_pessoas_ler\n",
        "  contador += 1\n",
        "print(f\"Média: {media:.2f}\")"
      ],
      "metadata": {
        "colab": {
          "base_uri": "https://localhost:8080/"
        },
        "id": "lEuhk4fwwZGj",
        "outputId": "36b6b6e6-8a35-4f0a-db6f-49e1ab6c3c7d"
      },
      "execution_count": null,
      "outputs": [
        {
          "output_type": "stream",
          "name": "stdout",
          "text": [
            "Digite o número de pessoas a serem registradas: 3\n",
            "Digite seu sexo usando M (Masculino) e F (Feminino): M\n",
            "Digite a sua idade: 18\n",
            "Digite seu sexo usando M (Masculino) e F (Feminino): F\n",
            "Digite a sua idade: 19\n",
            "Digite seu sexo usando M (Masculino) e F (Feminino): M\n",
            "Digite a sua idade: 16\n",
            "Média: 17.67\n"
          ]
        }
      ]
    },
    {
      "cell_type": "code",
      "source": [
        "'''\n",
        "Elabore um algoritmo que solicite ao usuário 10 números reais e ao final apresente o\n",
        "maior e o menor deles\n",
        "'''\n",
        "print(\"Digite 10 números: \")\n",
        "\n",
        "contador = 1\n",
        "while contador < 10:\n",
        "  numeros_reais = float(input(\" \"))\n",
        "  if contador == 1:\n",
        "    maior = numeros_reais\n",
        "    menor = numeros_reais\n",
        "\n",
        "  if numeros_reais > maior:\n",
        "    maior = numeros_reais\n",
        "\n",
        "  if numeros_reais < menor:\n",
        "    menor = numeros_reais\n",
        "  contador += 1\n",
        "\n",
        "print(f\"O maior número é {maior:.2f}\")\n",
        "print(f\"O menor número é {menor:.2f}\")"
      ],
      "metadata": {
        "colab": {
          "base_uri": "https://localhost:8080/"
        },
        "id": "oc69m9LXuT3h",
        "outputId": "b3703439-2883-452e-db63-b4b3c40ee1ab"
      },
      "execution_count": null,
      "outputs": [
        {
          "output_type": "stream",
          "name": "stdout",
          "text": [
            "Digite 10 números: \n",
            " 90\n",
            " 63\n",
            " 42\n",
            " 16\n",
            " 35\n",
            " 25\n",
            " 59\n",
            " 64\n",
            " 53\n",
            "O maior número é 90.00\n",
            "O menor número é 16.00\n"
          ]
        }
      ]
    },
    {
      "cell_type": "code",
      "source": [
        "'''\n",
        "Elabore um algoritmo que solicite N números reais e quando o usuário informar o valor\n",
        "nulo 0 (zero) o programa ordene e mostre todos os números informados de forma crescente\n",
        "'''\n",
        "numeros = []\n",
        "while True:\n",
        "  numeros_reais = float(input(\"Digite um número: \"))\n",
        "  if numeros_reais == 0:\n",
        "    break\n",
        "  numeros.append(numeros_reais)\n",
        "numeros.sort()\n",
        "for num in numeros:\n",
        "  print(num)"
      ],
      "metadata": {
        "colab": {
          "base_uri": "https://localhost:8080/"
        },
        "id": "ppXzFO7Y-Le3",
        "outputId": "4e587130-6dd9-4a6b-b014-b87bdc9ff1dd"
      },
      "execution_count": null,
      "outputs": [
        {
          "output_type": "stream",
          "name": "stdout",
          "text": [
            "Digite um número: 2\n",
            "Digite um número: 5\n",
            "Digite um número: 1\n",
            "Digite um número: 7\n",
            "Digite um número: -2\n",
            "Digite um número: 0\n",
            "-2.0\n",
            "1.0\n",
            "2.0\n",
            "5.0\n",
            "7.0\n"
          ]
        }
      ]
    },
    {
      "cell_type": "code",
      "source": [
        "'''\n",
        "Escreva um programa que vá solicitando as idades dos alunos da sala até que todos\n",
        "sejam informados (perguntar ao usuário se deseja informar a idade do próximo aluno). Ao\n",
        "final apresentar a idade do mais novo, a idade do mais velho, Quantos alunos têm mais de\n",
        "18 anos, quantos alunos têm até 18 anos, a média aritmética e a mediana\n",
        "'''\n",
        "idades = []\n",
        "aritmetica = 0\n",
        "mediana = 0.0\n",
        "\n",
        "while True:\n",
        "  idade_alunos = int(input(\"Digite a idade do aluno: \"))\n",
        "  print(\"Deseja informar a próxima idade? (digite 'sair' para encerrar)\")\n",
        "  next_sair = input(\" \")\n",
        "  idades.append(idade_alunos)\n",
        "  idades.sort()\n",
        "  if next_sair == 'sair':\n",
        "    break\n",
        "\n",
        "idade_maior18 = [num for num in idades if num > 18]\n",
        "qntd_maior18 = len(idade_maior18)\n",
        "idade_menor18 = [num for num in idades if num <= 18]\n",
        "qntd_menor18 = len(idade_menor18)\n",
        "\n",
        "mais_velho = max(idades)\n",
        "mais_novo = min(idades)\n",
        "qntd_alunos = len(idades)\n",
        "aritmetica = (sum(idades))/qntd_alunos\n",
        "\n",
        "#calculando a mediana\n",
        "if qntd_alunos % 2 == 1:\n",
        "  mediana = idades[qntd_alunos // 2]\n",
        "else:\n",
        "  meio1 = idades[qntd_alunos // 2 - 1]\n",
        "  meio2 = idades[qntd_alunos // 2]\n",
        "  mediana = (meio1 + meio2)/2\n",
        "\n",
        "print(f\"\\nMais velho: {mais_velho} \\nMais novo: {mais_novo} \\nQntd. de Alunos: {qntd_alunos} \\nMedia Aritmetica: {aritmetica:.2f} \\nMediana: {mediana}\")\n",
        "print(f\"Na sala possuem {qntd_maior18} alunos com mais de 18 anos!! \\nNa sala possuem {qntd_menor18} com até 18 anos!!\")"
      ],
      "metadata": {
        "colab": {
          "base_uri": "https://localhost:8080/"
        },
        "id": "OPVV9H0cvgMf",
        "outputId": "1c36ea0f-b059-4198-8f78-ab2f55e83c60"
      },
      "execution_count": null,
      "outputs": [
        {
          "output_type": "stream",
          "name": "stdout",
          "text": [
            "Digite a idade do aluno: 12\n",
            "Deseja informar a próxima idade? (digite 'sair' para encerrar)\n",
            " sim\n",
            "Digite a idade do aluno: 13\n",
            "Deseja informar a próxima idade? (digite 'sair' para encerrar)\n",
            " sim\n",
            "Digite a idade do aluno: 10\n",
            "Deseja informar a próxima idade? (digite 'sair' para encerrar)\n",
            " sim\n",
            "Digite a idade do aluno: 19\n",
            "Deseja informar a próxima idade? (digite 'sair' para encerrar)\n",
            " sair\n",
            "\n",
            "Mais velho: 19 \n",
            "Mais novo: 10 \n",
            "Qntd. de Alunos: 4 \n",
            "Media Aritmetica: 13.50 \n",
            "Mediana: 12.5\n",
            "Na sala possuem 1 alunos com mais de 18 anos!! \n",
            "Na sala possuem 3 com até 18 anos!!\n"
          ]
        }
      ]
    }
  ]
}