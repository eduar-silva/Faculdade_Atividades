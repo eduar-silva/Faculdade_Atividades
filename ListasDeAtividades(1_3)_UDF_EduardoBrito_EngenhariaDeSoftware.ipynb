{
  "nbformat": 4,
  "nbformat_minor": 0,
  "metadata": {
    "colab": {
      "provenance": [],
      "collapsed_sections": [
        "ibasTPOPvEGo",
        "LiyQ9_puJf7b",
        "bOlDYuQzPQRj"
      ],
      "authorship_tag": "ABX9TyPRlJtiTOImQ3++8gFwPEFK",
      "include_colab_link": true
    },
    "kernelspec": {
      "name": "python3",
      "display_name": "Python 3"
    },
    "language_info": {
      "name": "python"
    }
  },
  "cells": [
    {
      "cell_type": "markdown",
      "metadata": {
        "id": "view-in-github",
        "colab_type": "text"
      },
      "source": [
        "<a href=\"https://colab.research.google.com/github/eduar-silva/Faculdade_Atividades/blob/main/ListasDeAtividades(1_3)_UDF_EduardoBrito_EngenhariaDeSoftware.ipynb\" target=\"_parent\"><img src=\"https://colab.research.google.com/assets/colab-badge.svg\" alt=\"Open In Colab\"/></a>"
      ]
    },
    {
      "cell_type": "markdown",
      "source": [
        "# **Lista 01**"
      ],
      "metadata": {
        "id": "ibasTPOPvEGo"
      }
    },
    {
      "cell_type": "code",
      "source": [
        "'''\n",
        "Escreva um programa que apresente na tela a frase: \"Meu primeiro programa!!!\"\n",
        "'''\n",
        "print (\"Meu primeiro programa!!\")"
      ],
      "metadata": {
        "id": "J41IaC3ovL5f"
      },
      "execution_count": null,
      "outputs": []
    },
    {
      "cell_type": "code",
      "source": [
        "'''\n",
        "Escreva um programa que solicite ao usuário um número inteiro e ao final apresente na tela\n",
        "o número informado pelo usuário do programa\n",
        "'''\n",
        "num1 = int(input(\"Digite um número:\"))\n",
        "print (num1)"
      ],
      "metadata": {
        "id": "xDGNFFgIwCOv"
      },
      "execution_count": null,
      "outputs": []
    },
    {
      "cell_type": "code",
      "source": [
        "'''\n",
        "Escreva um programa que solicite ao usuário um número inteiro e ao final apresente na tela\n",
        "o número informado da seguinte forma: \"Foi informado o valor: X\"\n",
        "'''\n",
        "num1 = int(input(\"Digite um número: \"))\n",
        "print (\"Foi informado o número\", num1)"
      ],
      "metadata": {
        "id": "6Pj2CYdgwyp0"
      },
      "execution_count": null,
      "outputs": []
    },
    {
      "cell_type": "code",
      "source": [
        "'''\n",
        "Escreva um programa que solicite ao usuário dois números inteiros e ao final apresente na\n",
        "tela os dois números informados da seguinte forma: \"Voce informou os numeros X e Y\"\n",
        "'''\n",
        "num1 = int(input(\"Digite um número: \"))\n",
        "num2 = int(input(\"Digite o segundo número: \"))\n",
        "print (\"Você informou os números\", num1 ,\"e\", num2)"
      ],
      "metadata": {
        "id": "l0SvDQJDxEky"
      },
      "execution_count": null,
      "outputs": []
    },
    {
      "cell_type": "code",
      "source": [
        "'''\n",
        "Escreva um programa que solicite ao usuário um número real e ao final apresente na tela o\n",
        "número informado formatado com duas casas decimais da seguinte forma: \"Voce informou\n",
        "o numero X.YY\"\n",
        "'''\n",
        "num1 = float(input(\"Digite um número: \"))\n",
        "print(f\"Você informou o número {num1:.2f}\")"
      ],
      "metadata": {
        "id": "TwC1g-ZHIkqd"
      },
      "execution_count": null,
      "outputs": []
    },
    {
      "cell_type": "code",
      "source": [
        "'''\n",
        "Escreva um programa que solicite ao usuário a temperatura em graus Celsius e ao final\n",
        "apresente a temperatura correspondente em graus Farenheit. F = Celsius * 1.8 + 32\n",
        "'''\n",
        "temp_celsius = float(input(\"Informe a temperatura atual: \"))\n",
        "temp_farenheit = temp_celsius * 1.8 + 32\n",
        "print (temp_farenheit)"
      ],
      "metadata": {
        "id": "ENB3aqOY0LIg"
      },
      "execution_count": null,
      "outputs": []
    },
    {
      "cell_type": "code",
      "source": [
        "'''\n",
        "Escreva um programa que solicite ao usuário um número inteiro e um número real e ao final\n",
        "apresente na tela os dois números informados formatando com duas casas decimais\n",
        "somente o número real da seguinte forma: \"Voce informou os numeros N e X.YY\"\n",
        "'''\n",
        "num1 = int(input(\"Digite um número: \"))\n",
        "num2 = float(input(\"Digite um número: \"))\n",
        "print (\"Você informou os números\", num1, f\"e {num2:.2f}\")"
      ],
      "metadata": {
        "id": "g0ApvPxwxgBs"
      },
      "execution_count": null,
      "outputs": []
    },
    {
      "cell_type": "code",
      "source": [
        "'''\n",
        "Escreva um programa que solicite ao usuário a primeira letra de seu nome e ao final\n",
        "apresente na tela a letra informada pelo usuário da seguinte forma: \"Voce digitou w\"\n",
        "'''\n",
        "primeiraLetraNome = input(\"Digite a primeira letra do seu nome:\")\n",
        "print (\"Você digitou\", primeiraLetraNome)"
      ],
      "metadata": {
        "id": "CA8tFIv20Qf2"
      },
      "execution_count": null,
      "outputs": []
    },
    {
      "cell_type": "code",
      "source": [
        "'''\n",
        "Escreva um programa que solicite ao usuário o nome de sua cor preferida e ao final\n",
        "apresente na tela a cor informada pelo usuário da seguinte forma: \"Voce gosta da cor AAA\"\n",
        "'''\n",
        "corFavorita = input(\"Digite a sua cor favorita: \")\n",
        "print(\"Você gosta da cor\", corFavorita)"
      ],
      "metadata": {
        "id": "vLVPvsOyJZ0A"
      },
      "execution_count": null,
      "outputs": []
    },
    {
      "cell_type": "code",
      "source": [
        "'''\n",
        "Escreva um programa que solicite ao usuário o nome de uma verdura e uma fruta de sua\n",
        "preferencia e ao final apresente na tela as informações digitadas pelo usuário da seguinte\n",
        "forma: \"Voce gosta de AAAAAAA e BBBBBBB\"\n",
        "'''\n",
        "fruta = input(\"Digite uma fruta de sua preferência: \")\n",
        "verdura = input(\"Digite uma verdura de sua preferência: \")\n",
        "print (\"Você gosta de\", fruta,\"e\", verdura)"
      ],
      "metadata": {
        "id": "ks4BQ7RX1Fpy"
      },
      "execution_count": null,
      "outputs": []
    },
    {
      "cell_type": "code",
      "source": [
        "'''\n",
        "Elabore um algoritmo que solicite ao usuário um número real e ao final imprima na tela o\n",
        "numero informado e na linha de baixo o dobro deste número da seguinte forma:\n",
        "Numero -> X\n",
        "Dobro deste numero -> Y\n",
        "'''\n",
        "num1 = float(input(\"Digite um número: \"))\n",
        "dobro = num1 * 2\n",
        "print (\"Número ->\", num1)\n",
        "print (\"Dobro ->\", dobro)"
      ],
      "metadata": {
        "id": "zMyAjdiZ1cvz"
      },
      "execution_count": null,
      "outputs": []
    },
    {
      "cell_type": "code",
      "source": [
        "'''\n",
        "Reescrever o programa anterior apresentando o quadrado e o cubo do número informado\n",
        "'''\n",
        "num1 = float(input(\"Digite um número: \"))\n",
        "dobro = num1 * 2\n",
        "quadrado = num1 ** 2\n",
        "cubo = num1 ** 3\n",
        "print (\"Número ->\", num1)\n",
        "print (\"Dobro ->\", dobro)\n",
        "print (\"Quadrado ->\", quadrado)\n",
        "print (\"Cubo ->\", cubo)"
      ],
      "metadata": {
        "id": "gFILl2GF2FdT"
      },
      "execution_count": null,
      "outputs": []
    },
    {
      "cell_type": "code",
      "source": [
        "'''\n",
        "Escreva um programa que solicite ao usuário dois números inteiros e ao final apresente\n",
        "na tela a soma dos dois números informados da seguinte forma: \"O numeros N e X\n",
        "somados correspondem a Y\"\n",
        "'''\n",
        "num1 = int(input(\"Digite um número: \"))\n",
        "num2 = int(input(\"Digite outro número: \"))\n",
        "soma = num1+num2\n",
        "print (\"Os números\", num1,\"e\", num2,\"somados correspondem a\", soma)"
      ],
      "metadata": {
        "id": "pSEWZJJt2gRE"
      },
      "execution_count": null,
      "outputs": []
    },
    {
      "cell_type": "code",
      "source": [
        "'''\n",
        "Escreva um programa que solicite ao usuário dois números reais e ao final apresente na\n",
        "tela o produto dos dois números informados da seguinte forma: \"O produto dos numeros N\n",
        "e X corresponde a Y\"\n",
        "'''\n",
        "num1 = float(input(\"Digite um número: \"))\n",
        "num2 = float(input(\"Digite outro número: \"))\n",
        "produto = num1*num2\n",
        "print (\"O produto dos números\", num1,\"e\", num2,\"corresponde a\", produto)"
      ],
      "metadata": {
        "id": "zeZ2NO8a240J"
      },
      "execution_count": null,
      "outputs": []
    },
    {
      "cell_type": "code",
      "source": [
        "'''\n",
        "Refazer o programa 14 realizando as quatro operações aritméticas básicas\n",
        "'''\n",
        "num1 = float(input(\"Digite um número: \"))\n",
        "num2 = float(input(\"Digite outro número: \"))\n",
        "produto = num1*num2\n",
        "soma = num1+num2\n",
        "subtracao = num1-num2\n",
        "divisao = num1 / num2\n",
        "mod = num1 % num2\n",
        "exponenciacao = num1**num2\n",
        "print (\"Produto =\", produto)\n",
        "print (\"Soma =\", soma)\n",
        "print (\"Subtração =\", subtracao)\n",
        "print (\"Divisão =\", divisao)\n",
        "print (\"Módulo =\", mod)\n",
        "print (\"Exponenciação =\", exponenciacao)"
      ],
      "metadata": {
        "id": "RVNnxUEk3b6E"
      },
      "execution_count": null,
      "outputs": []
    },
    {
      "cell_type": "markdown",
      "source": [
        "# **Lista 2**"
      ],
      "metadata": {
        "id": "LiyQ9_puJf7b"
      }
    },
    {
      "cell_type": "code",
      "source": [
        "'''\n",
        "Elabore um programa que solicite ao usuário um número real e ao final imprima na tela se o\n",
        "número informado é maior que 10 (dez)\n",
        "'''\n",
        "num1 = float(input(\"Digite um número: \"))\n",
        "if num1 > 10:\n",
        "  print(\"O número é maior que 10\")"
      ],
      "metadata": {
        "id": "u7HBxktp8ZAJ"
      },
      "execution_count": null,
      "outputs": []
    },
    {
      "cell_type": "code",
      "source": [
        "'''\n",
        "Escreva um programa que solicite ao usuário um número real e ao final imprima na tela se\n",
        "o número informado é maior ou igual a dez ou menor que 10 (dez)\n",
        "'''\n",
        "num1 = float(input(\"Digite um número: \"))\n",
        "if num1 == 10:\n",
        "  print(\"O número é igual que 10\")\n",
        "elif num1 > 10:\n",
        "  print(\"O número é maior que 10\")"
      ],
      "metadata": {
        "id": "GyjiPEoR8t9_"
      },
      "execution_count": null,
      "outputs": []
    },
    {
      "cell_type": "code",
      "source": [
        "'''\n",
        "Elabore um algoritmo que solicite ao usuário um número real e ao final imprima na tela se o\n",
        "número informado é maior que dez, se é menor que dez, ou se é igual a dez\n",
        "'''\n",
        "num1 = float(input(\"Digite um número real: \"))\n",
        "if num1 == 10:\n",
        "  print(\"O número é igual a 10\")\n",
        "elif num1 > 10:\n",
        "  print(\"O número é maior que 10\")\n",
        "else:\n",
        "  print(\"O número é menor que 10\")"
      ],
      "metadata": {
        "id": "axHlfLKtJiQ-"
      },
      "execution_count": null,
      "outputs": []
    },
    {
      "cell_type": "code",
      "source": [
        "'''\n",
        "Elabore um algoritmo que solicite ao usuário um número real e ao final imprima na tela se o\n",
        "número informado é positivo, negativo ou nulo (zero)\n",
        "'''\n",
        "num1 = float(input(\"Digite um número: \"))\n",
        "if num1 == 0:\n",
        "  print(\"Nulo\")\n",
        "elif num1 > 0:\n",
        "  print(\"Positivo\")\n",
        "else:\n",
        "  print(\"Negativo\")"
      ],
      "metadata": {
        "id": "3hcoLdAR9LTk"
      },
      "execution_count": null,
      "outputs": []
    },
    {
      "cell_type": "code",
      "source": [
        "'''\n",
        "Elabore um algoritmo que leia um número inteiro e imprima uma das mensagens: é múltiplo\n",
        "de 3, ou, não é múltiplo de 3\n",
        "'''\n",
        "num1 = int(input(\"Digite um número: \"))\n",
        "resto = num1 % 3\n",
        "if resto == 0:\n",
        "  print(\"É múltiplo de 3\")\n",
        "else:\n",
        "  print(\"Não é múltiplo de 3\")"
      ],
      "metadata": {
        "id": "iWHMiZt5BM-5"
      },
      "execution_count": null,
      "outputs": []
    },
    {
      "cell_type": "code",
      "source": [
        "'''\n",
        "Refazer o exercício anterior, solicitando antes o múltiplo a ser testado\n",
        "'''\n",
        "num1 = int(input(\"Digite um número: \"))\n",
        "multiplo = int(input(\"Digite o múltiplo: \"))\n",
        "resto = multiplo % num1\n",
        "if resto == 0:\n",
        "  print(num1, \"é múltiplo de\", multiplo)\n",
        "else:\n",
        "  print(num1, \"não é múltiplo de\", multiplo)"
      ],
      "metadata": {
        "id": "BcD0u5ZhBvU7"
      },
      "execution_count": null,
      "outputs": []
    },
    {
      "cell_type": "code",
      "source": [
        "'''\n",
        "Desenvolva um algoritmo que classifique um número inteiro fornecido pelo usuário como\n",
        "par ou ímpar\n",
        "'''\n",
        "num1 = int(input(\"Digite um número: \"))\n",
        "if num1 % 2 == 0:\n",
        "  print(\"Par\")\n",
        "else:\n",
        "  print(\"Ímpar\")"
      ],
      "metadata": {
        "id": "6C7HTZd0Cy4m"
      },
      "execution_count": null,
      "outputs": []
    },
    {
      "cell_type": "code",
      "source": [
        "'''\n",
        "Elabore um algoritmo que leia um número, e se ele for maior do que 20, imprimir a metade\n",
        "desse número, caso contrário, imprimir o dobro do número\n",
        "'''\n",
        "num1 = int(input(\"Digite um número: \"))\n",
        "if num1 > 20:\n",
        "  metade = num1/2\n",
        "  print(metade)\n",
        "else:\n",
        "  dobro = num1*2\n",
        "  print(dobro)"
      ],
      "metadata": {
        "id": "vVznCgGdDC-0"
      },
      "execution_count": null,
      "outputs": []
    },
    {
      "cell_type": "code",
      "source": [
        "'''\n",
        "Elabore um algoritmo que leia dois números inteiros e realize a adição; caso o resultado\n",
        "seja maior que 10, imprima o quadrado do resultado, caso contrário, imprima a metade dele\n",
        "'''\n",
        "num1 = int(input(\"Digite um número: \"))\n",
        "num2 = int(input(\"Digite o segundo número: \"))\n",
        "soma = num1+num2\n",
        "if soma > 10:\n",
        "  quadrado = soma**2\n",
        "  print(quadrado)\n",
        "else:\n",
        "  metade = soma/2\n",
        "  print(metade)"
      ],
      "metadata": {
        "id": "z0dgcQy_Drnf"
      },
      "execution_count": null,
      "outputs": []
    },
    {
      "cell_type": "code",
      "source": [
        "'''\n",
        "O sistema de avaliação de determinada disciplina é composto por três provas. A primeira\n",
        "prova tem peso 2, a segunda tem peso 3 e a terceira tem peso 5. Considerando que a\n",
        "média para aprovação é 6.0, faça um algoritmo para calcular a média final de um aluno\n",
        "desta disciplina e dizer se o aluno foi aprovado ou não\n",
        "'''\n",
        "notaProva1 = float(input(\"Digite a nota da primeira prova: \"))\n",
        "notaProva2 = float(input(\"Digite a nota da segunda prova: \"))\n",
        "notaProva3 = float(input(\"Digite a nota da terceira prova: \"))\n",
        "media = (notaProva1 + notaProva2 + notaProva3)/3\n",
        "if media >= 6.0:\n",
        "  print(\"Aprovado!!\")\n",
        "else:\n",
        "  print(\"Reprovado!!\")"
      ],
      "metadata": {
        "id": "_oLZjIazEcjo"
      },
      "execution_count": null,
      "outputs": []
    },
    {
      "cell_type": "code",
      "source": [
        "'''\n",
        "Elabore um algoritmo que leia o nome e o peso de duas pessoas e imprima o nome da\n",
        "pessoa mais pesada\n",
        "'''\n",
        "nomePessoa1 = input(\"Digite seu nome: \")\n",
        "pesoPessoa1 = float(input(\"Digite seu peso: \"))\n",
        "nomePessoa2 = input(\"Digite seu nome: \")\n",
        "pesoPessoa2 = float(input(\"Digite seu peso: \"))\n",
        "if pesoPessoa1 > pesoPessoa2:\n",
        "  print(nomePessoa1)\n",
        "else:\n",
        "  print(nomePessoa2)"
      ],
      "metadata": {
        "id": "8v3INTSqFvCm"
      },
      "execution_count": null,
      "outputs": []
    },
    {
      "cell_type": "code",
      "source": [
        "'''\n",
        "Elabore um algoritmo que indique se um número digitado está compreendido entre 20 e\n",
        "90, ou não\n",
        "'''\n",
        "num1 = float(input(\"Digite um número: \"))\n",
        "if num1 >= 20 and num1 <= 90:\n",
        "  print(\"O número está compreendido entre 20 e 90\")\n",
        "else:\n",
        "  print(\"Fora do intervalo!!\")"
      ],
      "metadata": {
        "id": "5MWz4UHdGaNr"
      },
      "execution_count": null,
      "outputs": []
    },
    {
      "cell_type": "code",
      "source": [
        "'''\n",
        "Elabore um algoritmo que leia dois números e imprima qual é maior, qual é menor, ou se\n",
        "são iguais\n",
        "'''\n",
        "num1 = int(input(\"Digite um número: \"))\n",
        "num2 = int(input(\"Digite outro número: \"))\n",
        "if num1 == num2:\n",
        "  print(\"São iguais\")\n",
        "elif num1 > num2:\n",
        "  print(num1,\"é maior que\", num2)\n",
        "else:\n",
        "  print(num2,\"é maior que\", num1)"
      ],
      "metadata": {
        "id": "F4e4hh8xHbP3"
      },
      "execution_count": null,
      "outputs": []
    },
    {
      "cell_type": "markdown",
      "source": [
        "Escreva um programa em linguagem C que solicite ao usuário a média para aprovação em um curso e em seguida solicite ao usuário o nome, sexo e as 03 notas do aluno e ao final imprima a frase: \"O aluno XXXXX foi aprovado com media YY\" considerando o gênero do(a) aluno(a) e se foi aprovado(a) ou reprovado(a)\n",
        "\n",
        "https://onlinegdb.com/zQ5IdpZrg"
      ],
      "metadata": {
        "id": "EeFXMGLIP86j"
      }
    },
    {
      "cell_type": "markdown",
      "source": [
        "# **Lista 03**"
      ],
      "metadata": {
        "id": "bOlDYuQzPQRj"
      }
    },
    {
      "cell_type": "code",
      "execution_count": null,
      "metadata": {
        "id": "8dXAjuaAFIOR"
      },
      "outputs": [],
      "source": [
        "'''\n",
        "Elabore um algoritmo que imprima na tela lado a lado o texto \"Hello World!\" 10 vezes\n",
        "'''\n",
        "for i in range (10):\n",
        "  print(\"Hello world!\", end=' ')"
      ]
    },
    {
      "cell_type": "code",
      "source": [
        "'''\n",
        "Elabore um algoritmo que imprima na tela o texto \"Hello World!\" 10 vezes, um por linha\n",
        "'''\n",
        "for i in range (10):\n",
        "  print(\"Hello world!\")"
      ],
      "metadata": {
        "id": "kNxqNQ3yIbo0"
      },
      "execution_count": null,
      "outputs": []
    },
    {
      "cell_type": "code",
      "source": [
        "'''\n",
        "Elabore um algoritmo que imprima todos os números inteiros de 1 até 100 inclusive\n",
        "'''\n",
        "for numeros in range (0, 100):\n",
        "  print(numeros+1)"
      ],
      "metadata": {
        "id": "eA-8Ou4sIhfp"
      },
      "execution_count": null,
      "outputs": []
    },
    {
      "cell_type": "code",
      "source": [
        "'''\n",
        "Elabore um algoritmo que imprima 100 vezes o texto \"1- Hello World!\" com o número\n",
        "'''\n",
        "for num in range (100):\n",
        "  print(num, \"- Hello world!\")"
      ],
      "metadata": {
        "id": "2qJrmIM_I7-A"
      },
      "execution_count": null,
      "outputs": []
    },
    {
      "cell_type": "code",
      "source": [
        "'''\n",
        "Elabore um algoritmo que imprima todos os números decrescentes de 100 até 0 inclusive\n",
        "'''\n",
        "for num in range (100, -1, -1):\n",
        "  print(num)"
      ],
      "metadata": {
        "id": "H7VzqXNPJnKQ"
      },
      "execution_count": null,
      "outputs": []
    },
    {
      "cell_type": "code",
      "source": [
        "'''\n",
        "Elabore um algoritmo que imprima todos os números pares inteiros de 1 até 1000\n",
        "'''\n",
        "for contador in range (1, 1000):\n",
        "  if contador%2==0:\n",
        "    print(contador)"
      ],
      "metadata": {
        "id": "xFQlkhsKKvZv"
      },
      "execution_count": null,
      "outputs": []
    },
    {
      "cell_type": "code",
      "source": [
        "'''\n",
        "Elabore um algoritmo que imprima todos os números ímpares de 1000 até 0\n",
        "'''\n",
        "for contador in range (1000, -1, -1):\n",
        "  if contador%2==1:\n",
        "    print(contador)"
      ],
      "metadata": {
        "id": "OgMVlodPNhgD"
      },
      "execution_count": null,
      "outputs": []
    },
    {
      "cell_type": "code",
      "source": [
        "'''\n",
        "Elabore um algoritmo que imprima a soma dos 100 primeiros números inteiros positivos\n",
        "'''\n",
        "soma=0\n",
        "for contador in range (100):\n",
        "  if contador%2==0:\n",
        "    soma += contador\n",
        "    print(soma)"
      ],
      "metadata": {
        "id": "2X_9pzrNMKRp"
      },
      "execution_count": null,
      "outputs": []
    },
    {
      "cell_type": "code",
      "source": [
        "'''\n",
        "Elabore um algoritmo que solicite ao usuário um número inteiro que indicará a quantidade\n",
        "de vezes que o texto \"Hello World!\" será impresso na tela, um em cada linha.\n",
        "'''\n",
        "contador = int(input(\"Digite a quantidade de vezes que 'Hello world!' será repetido: \"))\n",
        "for contador in range (contador):\n",
        "  print(\"Hello world!\")"
      ],
      "metadata": {
        "id": "FOuAbxpbNQjc"
      },
      "execution_count": null,
      "outputs": []
    },
    {
      "cell_type": "code",
      "source": [
        "'''\n",
        "Elabore um algoritmo que solicite ao usuário uma palavra e um número inteiro que\n",
        "indicará a quantidade de vezes que a palavra digitada será impressa na tela, um em cada\n",
        "linha\n",
        "'''\n",
        "palavra = input(\"Digite uma palavra qualquer: \")\n",
        "contador = int(input(\"Digite a quantidade de vezes que a palavra será repetida: \"))\n",
        "for contador in range (contador):\n",
        "  print(palavra)"
      ],
      "metadata": {
        "id": "5JpVSra0NsU_"
      },
      "execution_count": null,
      "outputs": []
    },
    {
      "cell_type": "code",
      "source": [
        "'''\n",
        "Elabore um algoritmo que leia um número de entrada que indicará a quantidade de\n",
        "números a serem lidos. Em seguida, leia n números (conforme o valor informado\n",
        "anteriormente) e imprima a soma e a média aritmética dos números informados\n",
        "'''\n",
        "contador = 0\n",
        "soma = 0\n",
        "aritmetica = 0\n",
        "\n",
        "qntd_numeros_ler = int(input(\"Digite a quantidade de números a serem lidos para soma e média aritmética: \"))\n",
        "\n",
        "while contador < qntd_numeros_ler:\n",
        "  numeros = int(input(\"Digite um número: \"))\n",
        "  contador += 1\n",
        "  soma += numeros\n",
        "  aritmetica += (numeros)/qntd_numeros_ler\n",
        "print(soma)\n",
        "print(aritmetica)"
      ],
      "metadata": {
        "id": "eAxW43p3OPMA"
      },
      "execution_count": null,
      "outputs": []
    },
    {
      "cell_type": "code",
      "source": [
        "'''\n",
        "Elabore um algoritmo que leia um número de entrada que indicará a quantidade de\n",
        "registros a serem lidos (N). Em seguida algoritmo deve solicitar o nome e idade de N\n",
        "pessoas e ao final apresentar o nome da pessoa mais velha\n",
        "'''\n",
        "contador = 0\n",
        "idade_mais_velha = 0\n",
        "nome_mais_velho = \"\"\n",
        "\n",
        "qntd_pessoas_ler = int(input(\"Digite o número de pessoas a serem registradas: \"))\n",
        "\n",
        "while contador < qntd_pessoas_ler:\n",
        "  nome = input(\"Digite seu nome: \")\n",
        "  idade = int(input(\"Digite sua idade: \"))\n",
        "  contador += 1\n",
        "  if idade > idade_mais_velha:\n",
        "    idade_mais_velha = idade\n",
        "    nome_mais_velho = nome\n",
        "print(nome_mais_velho)"
      ],
      "metadata": {
        "id": "nHHBoBBnic-x"
      },
      "execution_count": null,
      "outputs": []
    },
    {
      "cell_type": "code",
      "source": [
        "'''\n",
        "Elabore um algoritmo que leia um número de entrada que indicará a quantidade de\n",
        "registros a serem lidos (N). Em seguida algoritmo deve solicitar o sexo (M/F) e idade de N\n",
        "pessoas e ao final apresentar a média de idade de ambos os gêneros catalogados\n",
        "'''\n",
        "contador = 0\n",
        "media = 0\n",
        "\n",
        "qntd_pessoas_ler = int(input(\"Digite o número de pessoas a serem registradas: \"))\n",
        "\n",
        "while contador < qntd_pessoas_ler:\n",
        "  sexo = input(\"Digite seu sexo usando M (Masculino) e F (Feminino): \")\n",
        "  idade = int(input(\"Digite a sua idade: \"))\n",
        "  media += (idade)/qntd_pessoas_ler\n",
        "  contador += 1\n",
        "print(f\"Média: {media:.2f}\")"
      ],
      "metadata": {
        "id": "lEuhk4fwwZGj"
      },
      "execution_count": null,
      "outputs": []
    },
    {
      "cell_type": "code",
      "source": [
        "'''\n",
        "Elabore um algoritmo que solicite ao usuário 10 números reais e ao final apresente o\n",
        "maior e o menor deles\n",
        "'''\n",
        "print(\"Digite 10 números: \")\n",
        "\n",
        "contador = 1\n",
        "while contador < 10:\n",
        "  numeros_reais = float(input(\" \"))\n",
        "  if contador == 1:\n",
        "    maior = numeros_reais\n",
        "    menor = numeros_reais\n",
        "\n",
        "  if numeros_reais > maior:\n",
        "    maior = numeros_reais\n",
        "\n",
        "  if numeros_reais < menor:\n",
        "    menor = numeros_reais\n",
        "  contador += 1\n",
        "\n",
        "print(f\"O maior número é {maior:.2f}\")\n",
        "print(f\"O menor número é {menor:.2f}\")"
      ],
      "metadata": {
        "id": "oc69m9LXuT3h"
      },
      "execution_count": null,
      "outputs": []
    },
    {
      "cell_type": "code",
      "source": [
        "'''\n",
        "Elabore um algoritmo que solicite N números reais e quando o usuário informar o valor\n",
        "nulo 0 (zero) o programa ordene e mostre todos os números informados de forma crescente\n",
        "'''\n",
        "numeros = []\n",
        "while True:\n",
        "  numeros_reais = float(input(\"Digite um número: \"))\n",
        "  if numeros_reais == 0:\n",
        "    break\n",
        "  numeros.append(numeros_reais)\n",
        "numeros.sort()\n",
        "for num in numeros:\n",
        "  print(num)"
      ],
      "metadata": {
        "id": "ppXzFO7Y-Le3"
      },
      "execution_count": null,
      "outputs": []
    },
    {
      "cell_type": "code",
      "source": [
        "'''\n",
        "Escreva um programa que vá solicitando as idades dos alunos da sala até que todos\n",
        "sejam informados (perguntar ao usuário se deseja informar a idade do próximo aluno). Ao\n",
        "final apresentar a idade do mais novo, a idade do mais velho, Quantos alunos têm mais de\n",
        "18 anos, quantos alunos têm até 18 anos, a média aritmética e a mediana\n",
        "'''\n",
        "idades = []\n",
        "aritmetica = 0\n",
        "mediana = 0.0\n",
        "\n",
        "while True:\n",
        "  idade_alunos = int(input(\"Digite a idade do aluno: \"))\n",
        "  print(\"Deseja informar a próxima idade? (digite 'sair' para encerrar)\")\n",
        "  next_sair = input(\" \")\n",
        "  idades.append(idade_alunos)\n",
        "  idades.sort()\n",
        "  if next_sair == 'sair':\n",
        "    break\n",
        "\n",
        "idade_maior18 = [num for num in idades if num > 18]\n",
        "qntd_maior18 = len(idade_maior18)\n",
        "idade_menor18 = [num for num in idades if num <= 18]\n",
        "qntd_menor18 = len(idade_menor18)\n",
        "\n",
        "mais_velho = max(idades)\n",
        "mais_novo = min(idades)\n",
        "qntd_alunos = len(idades)\n",
        "aritmetica = (sum(idades))/qntd_alunos\n",
        "\n",
        "#calculando a mediana\n",
        "if qntd_alunos % 2 == 1:\n",
        "  mediana = idades[qntd_alunos // 2]\n",
        "else:\n",
        "  meio1 = idades[qntd_alunos // 2 - 1]\n",
        "  meio2 = idades[qntd_alunos // 2]\n",
        "  mediana = (meio1 + meio2)/2\n",
        "\n",
        "print(f\"\\nMais velho: {mais_velho} \\nMais novo: {mais_novo} \\nQntd. de Alunos: {qntd_alunos} \\nMedia Aritmetica: {aritmetica:.2f} \\nMediana: {mediana}\")\n",
        "print(f\"Na sala possuem {qntd_maior18} alunos com mais de 18 anos!! \\nNa sala possuem {qntd_menor18} com até 18 anos!!\")"
      ],
      "metadata": {
        "id": "OPVV9H0cvgMf"
      },
      "execution_count": null,
      "outputs": []
    }
  ]
}