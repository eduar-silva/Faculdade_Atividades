{
  "nbformat": 4,
  "nbformat_minor": 0,
  "metadata": {
    "colab": {
      "provenance": [],
      "authorship_tag": "ABX9TyMr8Q3K73UBFqKjD6VKR6uq",
      "include_colab_link": true
    },
    "kernelspec": {
      "name": "python3",
      "display_name": "Python 3"
    },
    "language_info": {
      "name": "python"
    }
  },
  "cells": [
    {
      "cell_type": "markdown",
      "metadata": {
        "id": "view-in-github",
        "colab_type": "text"
      },
      "source": [
        "<a href=\"https://colab.research.google.com/github/eduar-silva/Faculdade_Atividades/blob/main/Aula1_UDF_EngDeSoftware_EduardoBritoDaSilva.ipynb\" target=\"_parent\"><img src=\"https://colab.research.google.com/assets/colab-badge.svg\" alt=\"Open In Colab\"/></a>"
      ]
    },
    {
      "cell_type": "markdown",
      "source": [
        "Nome: Eduardo Brito da Silva\n",
        "\n",
        "Curso: Engenharia de Software\n",
        "\n",
        "![python kadidja.jpg](data:image/jpeg;base64,/9j/4AAQSkZJRgABAQAAAQABAAD/2wBDAAoHBwgHBgoICAgLCgoLDhgQDg0NDh0VFhEYIx8lJCIfIiEmKzcvJik0KSEiMEExNDk7Pj4+JS5ESUM8SDc9Pjv/2wBDAQoLCw4NDhwQEBw7KCIoOzs7Ozs7Ozs7Ozs7Ozs7Ozs7Ozs7Ozs7Ozs7Ozs7Ozs7Ozs7Ozs7Ozs7Ozs7Ozs7Ozv/wAARCACAAIADASIAAhEBAxEB/8QAHwAAAQUBAQEBAQEAAAAAAAAAAAECAwQFBgcICQoL/8QAtRAAAgEDAwIEAwUFBAQAAAF9AQIDAAQRBRIhMUEGE1FhByJxFDKBkaEII0KxwRVS0fAkM2JyggkKFhcYGRolJicoKSo0NTY3ODk6Q0RFRkdISUpTVFVWV1hZWmNkZWZnaGlqc3R1dnd4eXqDhIWGh4iJipKTlJWWl5iZmqKjpKWmp6ipqrKztLW2t7i5usLDxMXGx8jJytLT1NXW19jZ2uHi4+Tl5ufo6erx8vP09fb3+Pn6/8QAHwEAAwEBAQEBAQEBAQAAAAAAAAECAwQFBgcICQoL/8QAtREAAgECBAQDBAcFBAQAAQJ3AAECAxEEBSExBhJBUQdhcRMiMoEIFEKRobHBCSMzUvAVYnLRChYkNOEl8RcYGRomJygpKjU2Nzg5OkNERUZHSElKU1RVVldYWVpjZGVmZ2hpanN0dXZ3eHl6goOEhYaHiImKkpOUlZaXmJmaoqOkpaanqKmqsrO0tba3uLm6wsPExcbHyMnK0tPU1dbX2Nna4uPk5ebn6Onq8vP09fb3+Pn6/9oADAMBAAIRAxEAPwD2aiiigAoopKAMzWNcsdDtxNeOcvwkajLOfYf1OAPWuF1D4garcErZpFZx54O3zHP4nj9D9azfFN7Le+I715ScRSGFFz91V4/U5P4103h3wRp9xpcN3qavNLcIHCByqop5HTGTj1/Ku+NOnSgpTV2zglOpVk4wdkjhry4lvpDJdSmVyckkAfyqt9ni/uD8zXReLPD6aBfRCB2a2uFLR7zlkIxkZ7jkHP8A+usGu2ElKKcdjjlFqTUtyI28X9wfmauWGoXelyCSynMLDvtVv5iq1FOXvKzBaO6Oz0v4j3URVNUtluI+8sA2uPfaeD+GK7uw1G11OzW6s5llibow7H0I7H2NeIV0PgjV5NO8QRW+4/Z7w+W69t38LfXPH0PtXDWoR5XKOh2Ua8rpSPWqKSlrgO8KKKKACiiigApKMijigDxfXv8AkYNR/wCvqT/0Kuo8PeO7ex0yKz1GCYtAoRJIgG3KOmRng4wP8KZqfgPVrzVbu5iuLMRzTNIoZ2BAJzz8vWq3/CudZ/5+bH/v4/8A8TXpOVGcFGTPNUasJNxRm+J/ETeIL9HWNoreAFYlY8nPUnHfgcc9KxK6z/hXOs/8/Nj/AN/H/wDiaT/hXGs/8/Nj/wB9v/8AE1catKKUU9CJU6kndrU5Sko/iI7g4pK3Mgq/oH/Ix6b/ANfcf/oVZ9XtA/5GPTP+vuP/ANCrOfwsqHxI9upaSjNeNdHsC0UlFMCOaaO3haaZwiICzMxwABXn+s/EC5llaLSFWGIHAnkXLN7hTwB9cn2FTfEPWHMkWjwvhcCWfB68/Kv04J/KuHrvw+HTXPJHBiK7T5Yuxpt4m11iWOrXOT1wQB+QFJ/wkuu/9Ba6/wC+h/hWZRXZyR7L7jk5592aX/CS67/0Frv/AL6H+FJ/wk2u/wDQXuv++h/hWZRS5Idl9w+eXdmn/wAJNrv/AEF7r/vof4Uf8JNrv/QXuv8Avof4Vl0lLkj2X3D55d2Hr+ZpKKSmSFX9A/5GPTP+vuP/ANCqhV/QP+Rk0z/r7j/9CqJ/Cy4fEj1jU3IuQAxHyDocdzVPzH/vt/30at6r/wAfI/3B/M1Sr83xsmsRLXqfVUUvZosQX8sLDcxkXuCcn8DWxFIksYeM5DDrXPVe0q42yNCTwwyv1/z/ACrsy7GzVT2c3dPbyM69FcvMlseTXmoS6peSX0xy8xBP4AL/AEqCmoNiAdhTq/QtFoj5PV6sKbRRQMKSlRHkkWJEZ5GOFRFLMfoB1rXg8IeIblN0elSqD/z0ZE/QnNRKcY7uxajJ7K5jUlb3/CD+JP8AoGf+R4//AIqk/wCEH8S/9Az/AMjx/wDxVR7WHdFezn2Zg0Vu/wDCD+Jf+gZ/5Hi/+Ko/4QbxL/0DP/I8f/xVL2kO6+8fs59mYFdJ4C0x9Q8SxT7T5NkPNc9txBCj65JP4Vc034b6pO4OoXEVpF3VD5jn29B9efpXb2trYeHtPWysoguOcZyzserMfU+v4CuPFYunTpt3Omhh5SkroZqLh7tgP4QB/X+tVT0oJLEsxyxOSfWm1+d16ntajn3dz6WEeWKQUqymJhIp5H/6qbTTyDWSk07rdGlk9GeXxvvQH1pamurGXTLp7KUEPCQCD7gN/Woa/XLp6o+Hs1owpYopJ5khiUvLKwRFHcngU2uj8A2i3PimN2AItoXlAPrwo/8AQjWc5csW+xpCPNJLudxoWg2XhqxBwJLp1/fTY5c+g9B7fieeaty6jKT8ihB7jJpl9KZLgr/CnAFVq+Cx+Y1ZVHGLsk7ep9HQoRjFXRN9uuv+ev6Ck+3XX/PU/kKhpK8z6zX/AJ2dXs49kT/b7r/nqfyFJ9vu/wDnqfyFQfjTfxpfWa/87H7OPZEzXty/Bmb8OP5VCTkknknqT3oyKbWc6s5/E2/VlxhFbIKKKSszQKaWwM0U5IjNIIl6t/8AroUZSdlu9gdlqzB+IulGK9h1WNf3cyiKUjs4+6fxGR+Ari69wvrK31CzktLpBJDMu1gfSvMda8EarpkzNawvfWxOVaIZcezL/Vc/hX6fQrR5eWT2Pk69F83Mkc5XWfDb/kZJ/wDrzb/0NK5v+ztQ/wCgfef+Az/4V1Pw7tbq38QzNPa3EKm0YBpImUE7k45HWta8l7NmVGL50ddc/wDHxJ/vGoqkuP8Aj4k/3zUVfmVb+I/Vn1MPhQUlFJWRoJ+FH4VN9kuv+eD0n2O5/wCeD1r7Cr/K/uFzx7kFJU32O7/54NR9ju/+eDUvYVf5X9zHzx7kNNqf7Fd/88H/ACpPsN4ePs7/AI4o+r1f5H9w/aR7ogrT0a2O43DDjGE/qf6U220dyQ1wQF/uqefxP+Fa6hUUKoAA4wK9jLsvmpqrVVrbI5MRXTXLFklJS0V9EcAmKKWkoYGBcf8AHzL/AL5qOpLj/j5l/wB81FXwtb+JL1Z68PhQUlFNrEtF3+1bj0j/ACP+NJ/a1wO0f5H/ABqkeKsWVp9rkIJIVR8x9a76WJxVSahGWrMZUqUVdol/ta49I/yP+NOh1Sd541Ij2swBwD/jT7vTEjgaSEt8oyQT1FZ9t/x9Q/74/nW86mLo1YxqSerXoyYxpTg3FHTUtIOlLX1J5oUlLRTAKKKKACkpaSgDE1CForgtj5ZOQfeqtdBJCk0ZSQBh71nTaUwOYXBHo3+NfNY3LanO509Uzvo142SloZ1JUk0MkJxIm38RUO9fX9K8WUXB2krPzOyNpK6FqzY3gtJCWBKMOcdqqbh60+OJ5jiNSx+o/rV0KkoVFKnutuoTinFqWxpXmqRvA0cOSXGCcYxVGxjaW8jCjhTuJ9AP84qxDo87kGVljX06mtW2tYrVNsa4z1J6mvbp4fE4qrGrWVkuhxOpTpxcYatk9LRRX0JwhRRRQB//2Q==)"
      ],
      "metadata": {
        "id": "HlkAIHeb8VMY"
      }
    },
    {
      "cell_type": "code",
      "source": [
        "print (\"Hello World!\")"
      ],
      "metadata": {
        "colab": {
          "base_uri": "https://localhost:8080/"
        },
        "id": "wSBuugC05YyL",
        "outputId": "a9e076d5-12ab-44ba-a2f3-34fcc6d5ee59"
      },
      "execution_count": null,
      "outputs": [
        {
          "output_type": "stream",
          "name": "stdout",
          "text": [
            "Hello World!\n"
          ]
        }
      ]
    },
    {
      "cell_type": "code",
      "source": [
        "#utilizar python como calculadora\n",
        "\n",
        "a=2\n",
        "30*5+a-2"
      ],
      "metadata": {
        "colab": {
          "base_uri": "https://localhost:8080/"
        },
        "id": "BMIieLDFD67O",
        "outputId": "f8aada90-4b8f-4fb4-e852-1328ceb50388"
      },
      "execution_count": null,
      "outputs": [
        {
          "output_type": "execute_result",
          "data": {
            "text/plain": [
              "150"
            ]
          },
          "metadata": {},
          "execution_count": 7
        }
      ]
    },
    {
      "cell_type": "code",
      "source": [
        "type (a)"
      ],
      "metadata": {
        "colab": {
          "base_uri": "https://localhost:8080/"
        },
        "id": "5Z3GSHWUGv30",
        "outputId": "e508c50c-55ac-41ab-a874-e35ef94c5405"
      },
      "execution_count": null,
      "outputs": [
        {
          "output_type": "execute_result",
          "data": {
            "text/plain": [
              "int"
            ]
          },
          "metadata": {},
          "execution_count": 12
        }
      ]
    },
    {
      "cell_type": "code",
      "source": [
        "# / é diferente de //\n",
        "\n",
        "8//9"
      ],
      "metadata": {
        "colab": {
          "base_uri": "https://localhost:8080/"
        },
        "id": "ERIqUFbeGFS3",
        "outputId": "8513d495-0eec-4870-c5ed-83e75aa5c2af"
      },
      "execution_count": null,
      "outputs": [
        {
          "output_type": "execute_result",
          "data": {
            "text/plain": [
              "0"
            ]
          },
          "metadata": {},
          "execution_count": 11
        }
      ]
    },
    {
      "cell_type": "code",
      "source": [
        "'''\n",
        "operadores textuais\n",
        " concatenação: +\n",
        " repetição: *\n",
        " fatiamento: [:]\n",
        " pertencimento: in\n",
        " tamanho: len( ... )\n",
        "'''\n"
      ],
      "metadata": {
        "colab": {
          "base_uri": "https://localhost:8080/",
          "height": 35
        },
        "id": "WQyxF3FeHvXJ",
        "outputId": "1e5d1c08-d2cf-49ba-a0fd-ad7550ea2c0b"
      },
      "execution_count": null,
      "outputs": [
        {
          "output_type": "execute_result",
          "data": {
            "text/plain": [
              "'eduardoeduardoeduardo'"
            ],
            "application/vnd.google.colaboratory.intrinsic+json": {
              "type": "string"
            }
          },
          "metadata": {},
          "execution_count": 17
        }
      ]
    },
    {
      "cell_type": "markdown",
      "source": [
        "**Lista 01**"
      ],
      "metadata": {
        "id": "ibasTPOPvEGo"
      }
    },
    {
      "cell_type": "code",
      "source": [
        "'''\n",
        "Escreva um programa que apresente na tela a frase: \"Meu primeiro programa!!!\"\n",
        "'''\n",
        "print (\"Meu primeiro programa!!\")"
      ],
      "metadata": {
        "colab": {
          "base_uri": "https://localhost:8080/"
        },
        "id": "J41IaC3ovL5f",
        "outputId": "2e329713-a9ec-4ff8-dde5-9db29be28027"
      },
      "execution_count": 1,
      "outputs": [
        {
          "output_type": "stream",
          "name": "stdout",
          "text": [
            "Meu primeiro programa!!\n"
          ]
        }
      ]
    },
    {
      "cell_type": "code",
      "source": [
        "'''\n",
        "Escreva um programa que solicite ao usuário um número inteiro e ao final apresente na tela\n",
        "o número informado pelo usuário do programa\n",
        "'''\n",
        "num1 = int(input(\"Digite um número:\"))\n",
        "print (num1)"
      ],
      "metadata": {
        "colab": {
          "base_uri": "https://localhost:8080/"
        },
        "id": "xDGNFFgIwCOv",
        "outputId": "b9c762e7-c260-49e9-d9c4-af725bac0493"
      },
      "execution_count": 3,
      "outputs": [
        {
          "output_type": "stream",
          "name": "stdout",
          "text": [
            "Digite um número:10\n",
            "10\n"
          ]
        }
      ]
    },
    {
      "cell_type": "code",
      "source": [
        "'''\n",
        "Escreva um programa que solicite ao usuário um número inteiro e ao final apresente na tela\n",
        "o número informado da seguinte forma: \"Foi informado o valor: X\"\n",
        "'''\n",
        "num1 = int(input(\"Digite um número: \"))\n",
        "print (\"Foi informado o número\", num1)"
      ],
      "metadata": {
        "colab": {
          "base_uri": "https://localhost:8080/"
        },
        "id": "6Pj2CYdgwyp0",
        "outputId": "581364c3-78f8-4a1f-cb8f-7d6643d082ac"
      },
      "execution_count": 4,
      "outputs": [
        {
          "output_type": "stream",
          "name": "stdout",
          "text": [
            "Digite um número: 12\n",
            "Foi informado o número 12\n"
          ]
        }
      ]
    },
    {
      "cell_type": "code",
      "source": [
        "'''\n",
        "Escreva um programa que solicite ao usuário dois números inteiros e ao final apresente na\n",
        "tela os dois números informados da seguinte forma: \"Voce informou os numeros X e Y\"\n",
        "'''\n",
        "num1 = int(input(\"Digite um número: \"))\n",
        "num2 = int(input(\"Digite o segundo número: \"))\n",
        "print (\"Você informou os números\", num1 ,\"e\", num2)"
      ],
      "metadata": {
        "colab": {
          "base_uri": "https://localhost:8080/"
        },
        "id": "l0SvDQJDxEky",
        "outputId": "cb35fafb-9636-4df3-8249-b719861a593a"
      },
      "execution_count": 7,
      "outputs": [
        {
          "output_type": "stream",
          "name": "stdout",
          "text": [
            "Digite um número: 2\n",
            "Digite o segundo número: 4\n",
            "Você informou os números 2 e 4\n"
          ]
        }
      ]
    },
    {
      "cell_type": "code",
      "source": [
        "'''\n",
        "Escreva um programa que solicite ao usuário um número real e ao final apresente na tela o\n",
        "número informado formatado com duas casas decimais da seguinte forma: \"Voce informou\n",
        "o numero X.YY\"\n",
        "'''\n",
        "num1 = float(input(\"Digite um número: \"))\n",
        "print(f\"Você informou o número {num1:.2f}\")"
      ],
      "metadata": {
        "colab": {
          "base_uri": "https://localhost:8080/"
        },
        "id": "TwC1g-ZHIkqd",
        "outputId": "261f058b-7d82-4f1c-8d56-999d1618223d"
      },
      "execution_count": 85,
      "outputs": [
        {
          "output_type": "stream",
          "name": "stdout",
          "text": [
            "Digite um número: 2\n",
            "Você informou o número 2.00\n"
          ]
        }
      ]
    },
    {
      "cell_type": "code",
      "source": [
        "'''\n",
        "Escreva um programa que solicite ao usuário a temperatura em graus Celsius e ao final\n",
        "apresente a temperatura correspondente em graus Farenheit. F = Celsius * 1.8 + 32\n",
        "'''\n",
        "temp_celsius = float(input(\"Informe a temperatura atual: \"))\n",
        "temp_farenheit = temp_celsius * 1.8 + 32\n",
        "print (temp_farenheit)"
      ],
      "metadata": {
        "colab": {
          "base_uri": "https://localhost:8080/"
        },
        "id": "ENB3aqOY0LIg",
        "outputId": "7a2d0701-9549-4ccf-b12c-65d59a5f3992"
      },
      "execution_count": 16,
      "outputs": [
        {
          "output_type": "stream",
          "name": "stdout",
          "text": [
            "Informe a temperatura atual: 32\n",
            "89.6\n"
          ]
        }
      ]
    },
    {
      "cell_type": "code",
      "source": [
        "'''\n",
        "Escreva um programa que solicite ao usuário um número inteiro e um número real e ao final\n",
        "apresente na tela os dois números informados formatando com duas casas decimais\n",
        "somente o número real da seguinte forma: \"Voce informou os numeros N e X.YY\"\n",
        "'''\n",
        "num1 = int(input(\"Digite um número: \"))\n",
        "num2 = float(input(\"Digite um número: \"))\n",
        "print (\"Você informou os números\", num1, f\"e {num2:.2f}\")"
      ],
      "metadata": {
        "colab": {
          "base_uri": "https://localhost:8080/"
        },
        "id": "g0ApvPxwxgBs",
        "outputId": "829efe72-2822-4dde-be18-8dcac60555b6"
      },
      "execution_count": 14,
      "outputs": [
        {
          "output_type": "stream",
          "name": "stdout",
          "text": [
            "Digite um número: 10\n",
            "Digite um número: 2.50\n",
            "Você informou os números 10 e 2.50\n"
          ]
        }
      ]
    },
    {
      "cell_type": "code",
      "source": [
        "'''\n",
        "Escreva um programa que solicite ao usuário a primeira letra de seu nome e ao final\n",
        "apresente na tela a letra informada pelo usuário da seguinte forma: \"Voce digitou w\"\n",
        "'''\n",
        "primeiraLetraNome = input(\"Digite a primeira letra do seu nome:\")\n",
        "print (\"Você digitou\", primeiraLetraNome)"
      ],
      "metadata": {
        "colab": {
          "base_uri": "https://localhost:8080/"
        },
        "id": "CA8tFIv20Qf2",
        "outputId": "fcf099ad-c632-4c89-8818-ae0bfe7e27d8"
      },
      "execution_count": 18,
      "outputs": [
        {
          "output_type": "stream",
          "name": "stdout",
          "text": [
            "Digite a primeira letra do seu nome:w\n",
            "Você digitou w\n"
          ]
        }
      ]
    },
    {
      "cell_type": "code",
      "source": [
        "'''\n",
        "Escreva um programa que solicite ao usuário o nome de sua cor preferida e ao final\n",
        "apresente na tela a cor informada pelo usuário da seguinte forma: \"Voce gosta da cor AAA\"\n",
        "'''\n",
        "corFavorita = input(\"Digite a sua cor favorita: \")\n",
        "print(\"Você gosta da cor\", corFavorita)"
      ],
      "metadata": {
        "colab": {
          "base_uri": "https://localhost:8080/"
        },
        "id": "vLVPvsOyJZ0A",
        "outputId": "181fc3d9-d480-41f8-f429-dc44805ad6ed"
      },
      "execution_count": 86,
      "outputs": [
        {
          "output_type": "stream",
          "name": "stdout",
          "text": [
            "Digite a sua cor favorita: azul\n",
            "Você gosta da cor azul\n"
          ]
        }
      ]
    },
    {
      "cell_type": "code",
      "source": [
        "'''\n",
        "Escreva um programa que solicite ao usuário o nome de uma verdura e uma fruta de sua\n",
        "preferencia e ao final apresente na tela as informações digitadas pelo usuário da seguinte\n",
        "forma: \"Voce gosta de AAAAAAA e BBBBBBB\"\n",
        "'''\n",
        "fruta = input(\"Digite uma fruta de sua preferência: \")\n",
        "verdura = input(\"Digite uma verdura de sua preferência: \")\n",
        "print (\"Você gosta de\", fruta,\"e\", verdura)"
      ],
      "metadata": {
        "colab": {
          "base_uri": "https://localhost:8080/"
        },
        "id": "ks4BQ7RX1Fpy",
        "outputId": "3fc3caee-aa4b-401f-cb95-4e164fe43a41"
      },
      "execution_count": 19,
      "outputs": [
        {
          "output_type": "stream",
          "name": "stdout",
          "text": [
            "Digite uma fruta de sua preferência: maçã\n",
            "Digite uma verdura de sua preferência: tomate\n",
            "Você gosta de maçã e tomate\n"
          ]
        }
      ]
    },
    {
      "cell_type": "code",
      "source": [
        "'''\n",
        "Elabore um algoritmo que solicite ao usuário um número real e ao final imprima na tela o\n",
        "numero informado e na linha de baixo o dobro deste número da seguinte forma:\n",
        "Numero -> X\n",
        "Dobro deste numero -> Y\n",
        "'''\n",
        "num1 = float(input(\"Digite um número: \"))\n",
        "dobro = num1 * 2\n",
        "print (\"Número ->\", num1)\n",
        "print (\"Dobro ->\", dobro)"
      ],
      "metadata": {
        "colab": {
          "base_uri": "https://localhost:8080/"
        },
        "id": "zMyAjdiZ1cvz",
        "outputId": "5b557e63-5300-4c30-d8ba-f5f66eb91aeb"
      },
      "execution_count": 23,
      "outputs": [
        {
          "output_type": "stream",
          "name": "stdout",
          "text": [
            "Digite um número: 2\n",
            "Número -> 2.0\n",
            "Dobro -> 4.0\n"
          ]
        }
      ]
    },
    {
      "cell_type": "code",
      "source": [
        "'''\n",
        "Reescrever o programa anterior apresentando o quadrado e o cubo do número informado\n",
        "'''\n",
        "num1 = float(input(\"Digite um número: \"))\n",
        "dobro = num1 * 2\n",
        "quadrado = num1 ** 2\n",
        "cubo = num1 ** 3\n",
        "print (\"Número ->\", num1)\n",
        "print (\"Dobro ->\", dobro)\n",
        "print (\"Quadrado ->\", quadrado)\n",
        "print (\"Cubo ->\", cubo)"
      ],
      "metadata": {
        "colab": {
          "base_uri": "https://localhost:8080/"
        },
        "id": "gFILl2GF2FdT",
        "outputId": "ecea99d0-e133-4b62-b553-fab049884b3a"
      },
      "execution_count": 25,
      "outputs": [
        {
          "output_type": "stream",
          "name": "stdout",
          "text": [
            "Digite um número: 3\n",
            "Número -> 3.0\n",
            "Dobro -> 6.0\n",
            "Quadrado -> 9.0\n",
            "Cubo -> 27.0\n"
          ]
        }
      ]
    },
    {
      "cell_type": "code",
      "source": [
        "'''\n",
        "Escreva um programa que solicite ao usuário dois números inteiros e ao final apresente\n",
        "na tela a soma dos dois números informados da seguinte forma: \"O numeros N e X\n",
        "somados correspondem a Y\"\n",
        "'''\n",
        "num1 = int(input(\"Digite um número: \"))\n",
        "num2 = int(input(\"Digite outro número: \"))\n",
        "soma = num1+num2\n",
        "print (\"Os números\", num1,\"e\", num2,\"somados correspondem a\", soma)"
      ],
      "metadata": {
        "colab": {
          "base_uri": "https://localhost:8080/"
        },
        "id": "pSEWZJJt2gRE",
        "outputId": "345bd5aa-0302-4d07-c08b-566111c0edc0"
      },
      "execution_count": 26,
      "outputs": [
        {
          "output_type": "stream",
          "name": "stdout",
          "text": [
            "Digite um número: 2\n",
            "Digite outro número: 4\n",
            "Os números 2 e 4 somados correspondem a 6\n"
          ]
        }
      ]
    },
    {
      "cell_type": "code",
      "source": [
        "'''\n",
        "Escreva um programa que solicite ao usuário dois números reais e ao final apresente na\n",
        "tela o produto dos dois números informados da seguinte forma: \"O produto dos numeros N\n",
        "e X corresponde a Y\"\n",
        "'''\n",
        "num1 = float(input(\"Digite um número: \"))\n",
        "num2 = float(input(\"Digite outro número: \"))\n",
        "produto = num1*num2\n",
        "print (\"O produto dos números\", num1,\"e\", num2,\"corresponde a\", produto)"
      ],
      "metadata": {
        "colab": {
          "base_uri": "https://localhost:8080/"
        },
        "id": "zeZ2NO8a240J",
        "outputId": "6a8b6f42-490a-4704-815e-fcb0bcebdbb4"
      },
      "execution_count": 27,
      "outputs": [
        {
          "output_type": "stream",
          "name": "stdout",
          "text": [
            "Digite um número: 2\n",
            "Digite outro número: 4\n",
            "O produto dos números 2.0 e 4.0 corresponde a 8.0\n"
          ]
        }
      ]
    },
    {
      "cell_type": "code",
      "source": [
        "'''\n",
        "Refazer o programa 14 realizando as quatro operações aritméticas básicas\n",
        "'''\n",
        "num1 = float(input(\"Digite um número: \"))\n",
        "num2 = float(input(\"Digite outro número: \"))\n",
        "produto = num1*num2\n",
        "soma = num1+num2\n",
        "subtracao = num1-num2\n",
        "divisao = num1 / num2\n",
        "mod = num1 % num2\n",
        "exponenciacao = num1**num2\n",
        "print (\"Produto =\", produto)\n",
        "print (\"Soma =\", soma)\n",
        "print (\"Subtração =\", subtracao)\n",
        "print (\"Divisão =\", divisao)\n",
        "print (\"Módulo =\", mod)\n",
        "print (\"Exponenciação =\", exponenciacao)"
      ],
      "metadata": {
        "colab": {
          "base_uri": "https://localhost:8080/"
        },
        "id": "RVNnxUEk3b6E",
        "outputId": "e068b86d-1f4e-4e9c-af9d-2e46d9c82959"
      },
      "execution_count": 32,
      "outputs": [
        {
          "output_type": "stream",
          "name": "stdout",
          "text": [
            "Digite um número: 2\n",
            "Digite outro número: 5\n",
            "Produto = 10.0\n",
            "Soma = 7.0\n",
            "Subtração = -3.0\n",
            "Divisão = 0.4\n",
            "Resto = 2.0\n",
            "Exponenciação = 32.0\n"
          ]
        }
      ]
    },
    {
      "cell_type": "markdown",
      "source": [
        "**23/09 Lista 2**"
      ],
      "metadata": {
        "id": "LiyQ9_puJf7b"
      }
    },
    {
      "cell_type": "code",
      "source": [
        "'''\n",
        "Elabore um programa que solicite ao usuário um número real e ao final imprima na tela se o\n",
        "número informado é maior que 10 (dez)\n",
        "'''\n",
        "num1 = float(input(\"Digite um número: \"))\n",
        "if num1 > 10:\n",
        "  print(\"O número é maior que 10\")"
      ],
      "metadata": {
        "colab": {
          "base_uri": "https://localhost:8080/"
        },
        "id": "u7HBxktp8ZAJ",
        "outputId": "8acfc258-a0e1-43be-f6f2-74f96a54b209"
      },
      "execution_count": 36,
      "outputs": [
        {
          "output_type": "stream",
          "name": "stdout",
          "text": [
            "Digite um número: 12\n",
            "O número é maior que 10\n"
          ]
        }
      ]
    },
    {
      "cell_type": "code",
      "source": [
        "'''\n",
        "Escreva um programa que solicite ao usuário um número real e ao final imprima na tela se\n",
        "o número informado é maior ou igual a dez ou menor que 10 (dez)\n",
        "'''\n",
        "num1 = float(input(\"Digite um número: \"))\n",
        "if num1 == 10:\n",
        "  print(\"O número é igual que 10\")\n",
        "elif num1 > 10:\n",
        "  print(\"O número é maior que 10\")"
      ],
      "metadata": {
        "colab": {
          "base_uri": "https://localhost:8080/"
        },
        "id": "GyjiPEoR8t9_",
        "outputId": "ddf32c4d-17bc-40ab-e97e-6a0073ead261"
      },
      "execution_count": 38,
      "outputs": [
        {
          "output_type": "stream",
          "name": "stdout",
          "text": [
            "Digite um número: 10\n",
            "O número é igual que 10\n"
          ]
        }
      ]
    },
    {
      "cell_type": "code",
      "source": [
        "'''\n",
        "Elabore um algoritmo que solicite ao usuário um número real e ao final imprima na tela se o\n",
        "número informado é maior que dez, se é menor que dez, ou se é igual a dez\n",
        "'''\n",
        "num1 = float(input(\"Digite um número real: \"))\n",
        "if num1 == 10:\n",
        "  print(\"O número é igual a 10\")\n",
        "elif num1 > 10:\n",
        "  print(\"O número é maior que 10\")\n",
        "else:\n",
        "  print(\"O número é menor que 10\")"
      ],
      "metadata": {
        "colab": {
          "base_uri": "https://localhost:8080/"
        },
        "id": "axHlfLKtJiQ-",
        "outputId": "86c42a63-4504-40cb-aaa2-6e2438a99ee3"
      },
      "execution_count": 35,
      "outputs": [
        {
          "output_type": "stream",
          "name": "stdout",
          "text": [
            "Digite um número real: 10\n",
            "O número é igual a 10\n"
          ]
        }
      ]
    },
    {
      "cell_type": "code",
      "source": [
        "'''\n",
        "Elabore um algoritmo que solicite ao usuário um número real e ao final imprima na tela se o\n",
        "número informado é positivo, negativo ou nulo (zero)\n",
        "'''\n",
        "num1 = float(input(\"Digite um número: \"))\n",
        "if num1 == 0:\n",
        "  print(\"Nulo\")\n",
        "elif num1 > 0:\n",
        "  print(\"Positivo\")\n",
        "else:\n",
        "  print(\"Negativo\")"
      ],
      "metadata": {
        "colab": {
          "base_uri": "https://localhost:8080/"
        },
        "id": "3hcoLdAR9LTk",
        "outputId": "3d652ca7-9c06-49f8-f83c-98b8f51c9384"
      },
      "execution_count": 41,
      "outputs": [
        {
          "output_type": "stream",
          "name": "stdout",
          "text": [
            "Digite um número: 0\n",
            "Nulo\n"
          ]
        }
      ]
    },
    {
      "cell_type": "code",
      "source": [
        "'''\n",
        "Elabore um algoritmo que leia um número inteiro e imprima uma das mensagens: é múltiplo\n",
        "de 3, ou, não é múltiplo de 3\n",
        "'''\n",
        "num1 = int(input(\"Digite um número: \"))\n",
        "resto = num1 % 3\n",
        "if resto == 0:\n",
        "  print(\"É múltiplo de 3\")\n",
        "else:\n",
        "  print(\"Não é múltiplo de 3\")"
      ],
      "metadata": {
        "colab": {
          "base_uri": "https://localhost:8080/"
        },
        "id": "iWHMiZt5BM-5",
        "outputId": "c8807329-0152-4825-bf2f-996ee40d4dea"
      },
      "execution_count": 56,
      "outputs": [
        {
          "output_type": "stream",
          "name": "stdout",
          "text": [
            "Digite um número: 9\n",
            "Não é múltiplo de 3\n"
          ]
        }
      ]
    },
    {
      "cell_type": "code",
      "source": [
        "'''\n",
        "Refazer o exercício anterior, solicitando antes o múltiplo a ser testado\n",
        "'''\n",
        "num1 = int(input(\"Digite um número: \"))\n",
        "multiplo = int(input(\"Digite o múltiplo: \"))\n",
        "resto = multiplo % num1\n",
        "if resto == 0:\n",
        "  print(num1, \"é múltiplo de\", multiplo)\n",
        "else:\n",
        "  print(num1, \"não é múltiplo de\", multiplo)"
      ],
      "metadata": {
        "colab": {
          "base_uri": "https://localhost:8080/"
        },
        "id": "BcD0u5ZhBvU7",
        "outputId": "d45a0aea-8d83-42e9-e7d6-dd3fdd24ae2d"
      },
      "execution_count": 60,
      "outputs": [
        {
          "output_type": "stream",
          "name": "stdout",
          "text": [
            "Digite um número: 3\n",
            "Digite o múltiplo: 10\n",
            "3 não é múltiplo de 10\n"
          ]
        }
      ]
    },
    {
      "cell_type": "code",
      "source": [
        "'''\n",
        "Desenvolva um algoritmo que classifique um número inteiro fornecido pelo usuário como\n",
        "par ou ímpar\n",
        "'''\n",
        "num1 = int(input(\"Digite um número: \"))\n",
        "if num1 % 2 == 0:\n",
        "  print(\"Par\")\n",
        "else:\n",
        "  print(\"Ímpar\")"
      ],
      "metadata": {
        "colab": {
          "base_uri": "https://localhost:8080/"
        },
        "id": "6C7HTZd0Cy4m",
        "outputId": "0a148896-63c7-49db-b4ed-779f3daf5ecc"
      },
      "execution_count": 65,
      "outputs": [
        {
          "output_type": "stream",
          "name": "stdout",
          "text": [
            "Digite um número: 22\n",
            "Par\n"
          ]
        }
      ]
    },
    {
      "cell_type": "code",
      "source": [
        "'''\n",
        "Elabore um algoritmo que leia um número, e se ele for maior do que 20, imprimir a metade\n",
        "desse número, caso contrário, imprimir o dobro do número\n",
        "'''\n",
        "num1 = int(input(\"Digite um número: \"))\n",
        "if num1 > 20:\n",
        "  metade = num1/2\n",
        "  print(metade)\n",
        "else:\n",
        "  dobro = num1*2\n",
        "  print(dobro)"
      ],
      "metadata": {
        "colab": {
          "base_uri": "https://localhost:8080/"
        },
        "id": "vVznCgGdDC-0",
        "outputId": "c8b118ae-404e-4c43-cd67-a5e2f5b6da4a"
      },
      "execution_count": 68,
      "outputs": [
        {
          "output_type": "stream",
          "name": "stdout",
          "text": [
            "Digite um número: 50\n",
            "25.0\n"
          ]
        }
      ]
    },
    {
      "cell_type": "code",
      "source": [
        "'''\n",
        "Elabore um algoritmo que leia dois números inteiros e realize a adição; caso o resultado\n",
        "seja maior que 10, imprima o quadrado do resultado, caso contrário, imprima a metade dele\n",
        "'''\n",
        "num1 = int(input(\"Digite um número: \"))\n",
        "num2 = int(input(\"Digite o segundo número: \"))\n",
        "soma = num1+num2\n",
        "if soma > 10:\n",
        "  quadrado = soma**2\n",
        "  print(quadrado)\n",
        "else:\n",
        "  metade = soma/2\n",
        "  print(metade)"
      ],
      "metadata": {
        "colab": {
          "base_uri": "https://localhost:8080/"
        },
        "id": "z0dgcQy_Drnf",
        "outputId": "b852a0c5-25c8-4de5-dff4-5b778197d114"
      },
      "execution_count": 69,
      "outputs": [
        {
          "output_type": "stream",
          "name": "stdout",
          "text": [
            "Digite um número: 2\n",
            "Digite o segundo número: 4\n",
            "3.0\n"
          ]
        }
      ]
    },
    {
      "cell_type": "code",
      "source": [
        "'''\n",
        "O sistema de avaliação de determinada disciplina é composto por três provas. A primeira\n",
        "prova tem peso 2, a segunda tem peso 3 e a terceira tem peso 5. Considerando que a\n",
        "média para aprovação é 6.0, faça um algoritmo para calcular a média final de um aluno\n",
        "desta disciplina e dizer se o aluno foi aprovado ou não\n",
        "'''\n",
        "notaProva1 = float(input(\"Digite a nota da primeira prova: \"))\n",
        "notaProva2 = float(input(\"Digite a nota da segunda prova: \"))\n",
        "notaProva3 = float(input(\"Digite a nota da terceira prova: \"))\n",
        "media = (notaProva1 + notaProva2 + notaProva3)/3\n",
        "if media >= 6.0:\n",
        "  print(\"Aprovado!!\")\n",
        "else:\n",
        "  print(\"Reprovado!!\")"
      ],
      "metadata": {
        "colab": {
          "base_uri": "https://localhost:8080/"
        },
        "id": "_oLZjIazEcjo",
        "outputId": "cd6dc04e-b09e-4b6d-ca6b-ab061fb5fc6b"
      },
      "execution_count": 70,
      "outputs": [
        {
          "output_type": "stream",
          "name": "stdout",
          "text": [
            "Digite a nota da primeira prova: 5\n",
            "Digite a nota da segunda prova: 3\n",
            "Digite a nota da terceira prova: 10\n",
            "Aprovado!!\n"
          ]
        }
      ]
    },
    {
      "cell_type": "code",
      "source": [
        "'''\n",
        "Elabore um algoritmo que leia o nome e o peso de duas pessoas e imprima o nome da\n",
        "pessoa mais pesada\n",
        "'''\n",
        "nomePessoa1 = input(\"Digite seu nome: \")\n",
        "pesoPessoa1 = float(input(\"Digite seu peso: \"))\n",
        "nomePessoa2 = input(\"Digite seu nome: \")\n",
        "pesoPessoa2 = float(input(\"Digite seu peso: \"))\n",
        "if pesoPessoa1 > pesoPessoa2:\n",
        "  print(nomePessoa1)\n",
        "else:\n",
        "  print(nomePessoa2)"
      ],
      "metadata": {
        "colab": {
          "base_uri": "https://localhost:8080/"
        },
        "id": "8v3INTSqFvCm",
        "outputId": "702ce63f-a028-4256-a14e-ba6f85078992"
      },
      "execution_count": 72,
      "outputs": [
        {
          "output_type": "stream",
          "name": "stdout",
          "text": [
            "Digite seu nome: Luiz\n",
            "Digite seu peso: 63\n",
            "Digite seu nome: Guilherme\n",
            "Digite seu peso: 72\n",
            "Guilherme\n"
          ]
        }
      ]
    },
    {
      "cell_type": "code",
      "source": [
        "'''\n",
        "Elabore um algoritmo que indique se um número digitado está compreendido entre 20 e\n",
        "90, ou não\n",
        "'''\n",
        "num1 = float(input(\"Digite um número: \"))\n",
        "if num1 >= 20 and num1 <= 90:\n",
        "  print(\"O número está compreendido entre 20 e 90\")\n",
        "else:\n",
        "  print(\"Fora do intervalo!!\")"
      ],
      "metadata": {
        "colab": {
          "base_uri": "https://localhost:8080/"
        },
        "id": "5MWz4UHdGaNr",
        "outputId": "8e66df5b-93d8-4094-a1a9-ed8b7fef8da4"
      },
      "execution_count": 81,
      "outputs": [
        {
          "output_type": "stream",
          "name": "stdout",
          "text": [
            "Digite um número: 21\n",
            "O número está compreendido entre 20 e 90\n"
          ]
        }
      ]
    },
    {
      "cell_type": "code",
      "source": [
        "'''\n",
        "Elabore um algoritmo que leia dois números e imprima qual é maior, qual é menor, ou se\n",
        "são iguais\n",
        "'''\n",
        "num1 = int(input(\"Digite um número: \"))\n",
        "num2 = int(input(\"Digite outro número: \"))\n",
        "if num1 == num2:\n",
        "  print(\"São iguais\")\n",
        "elif num1 > num2:\n",
        "  print(num1,\"é maior que\", num2)\n",
        "else:\n",
        "  print(num2,\"é maior que\", num1)"
      ],
      "metadata": {
        "colab": {
          "base_uri": "https://localhost:8080/"
        },
        "id": "F4e4hh8xHbP3",
        "outputId": "5cf5bd2c-213e-4b94-b797-81229233f32a"
      },
      "execution_count": 89,
      "outputs": [
        {
          "output_type": "stream",
          "name": "stdout",
          "text": [
            "Digite um número: 6\n",
            "Digite outro número: 6\n",
            "São iguais\n"
          ]
        }
      ]
    }
  ]
}